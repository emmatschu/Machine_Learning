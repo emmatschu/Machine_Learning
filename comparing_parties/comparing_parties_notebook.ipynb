{
 "cells": [
  {
   "cell_type": "markdown",
   "metadata": {},
   "source": [
    "# Project 2\n",
    "***\n",
    "\n",
    "The goal of this project is to compare machine learning models to find the best one to categorize tweets from US Senators into what political party that Senator is in (Democrat or Republican) based on its qualities. "
   ]
  },
  {
   "cell_type": "markdown",
   "metadata": {},
   "source": [
    "## Import block"
   ]
  },
  {
   "cell_type": "code",
   "execution_count": 4,
   "metadata": {},
   "outputs": [],
   "source": [
    "# Import Block \n",
    "%matplotlib inline\n",
    "\n",
    "import matplotlib.pyplot as plt \n",
    "import numpy as np \n",
    "import pandas as pd\n",
    "import math\n",
    "import random \n",
    "\n",
    "from proj2 import * \n",
    "\n",
    "from sklearn import linear_model \n",
    "from sklearn.metrics import accuracy_score\n",
    "# Used for Trees\n",
    "from sklearn.tree import DecisionTreeClassifier  \n",
    "from sklearn.tree import export_graphviz \n",
    "from IPython.display import Image \n",
    "from pydot import graph_from_dot_data\n",
    "from six import StringIO\n",
    "from random import seed\n",
    "\n",
    "# Used for SVM\n",
    "from sklearn.ensemble import RandomForestClassifier\n",
    "from sklearn.tree import DecisionTreeClassifier \n",
    "#from sklearn.feature_extraction.text import CountVectorizer\n",
    "#from sklearn.feature_extraction.text import TfidfTransformer\n",
    "from sklearn.feature_extraction.text import TfidfVectorizer\n",
    "from sklearn.linear_model import SGDClassifier\n",
    "from sklearn.model_selection import cross_val_score\n",
    "\n"
   ]
  },
  {
   "cell_type": "markdown",
   "metadata": {},
   "source": [
    "## Data Pre-processing\n",
    "***\n",
    "I use the `senators.csv` file to get the tweet data I will use for my analysis. This data contains the exact tweet text of many US Senators, along with information about the tweets like how many retweets and likes it had, who wrote it, what state the writer was from, etc. \n",
    "\n",
    "To start, I remove any tweets written by senators that were not either Democratic or Republican, because there were so few of them relative to Democrats and Republicans (6255 independent parties, 282360 Democrats + Republicans) that I did not think they were useful to include. I also drop some columns I don't see myself using, like the `url` of the tweer and the `bioguide_id`.  \n",
    "\n",
    "Then, I randomly sampled 90 % of my tweet data to use for training and testing my models (`main_train_df`). I am making two different models that I might use for my categorization task, and I want to reserve the final 10% of my tweet data (`final_test_df`) for testing and comparing those two models, to hopefully give a more objective measure of their qualities. This 10% is saved in a separate dataframe so I don't lose or use it by accident before the end. \n",
    "\n",
    "The `main_train_df`, which I am using to train and test the two separate models, also needs to be split into a test sample and a train sample. I randomly sample the `main_train_df`, and then copy the subsampled version (`tree_train_df`) so that each of my models has an identical random train and test set. \n",
    "\n",
    "I need two different copies of this secondary training set so each of my models has their own clean dataset to work with. My models have very different data needs, so each dataframe undergoes significant changes and cannot be shared. Similarly, both get their own copy of the other 10% of the `main_train_df`, so I can modify the test sets to suite their needs as well."
   ]
  },
  {
   "cell_type": "code",
   "execution_count": 5,
   "metadata": {},
   "outputs": [],
   "source": [
    "# Data import block \n",
    "my_df = pd.read_csv(\"https://raw.githubusercontent.com/fivethirtyeight/data/master/twitter-ratio/senators.csv\", encoding=\"ISO-8859-1\")\n"
   ]
  },
  {
   "cell_type": "code",
   "execution_count": 6,
   "metadata": {},
   "outputs": [
    {
     "name": "stdout",
     "output_type": "stream",
     "text": [
      "(288615, 10)\n"
     ]
    },
    {
     "data": {
      "text/html": [
       "<div>\n",
       "<style scoped>\n",
       "    .dataframe tbody tr th:only-of-type {\n",
       "        vertical-align: middle;\n",
       "    }\n",
       "\n",
       "    .dataframe tbody tr th {\n",
       "        vertical-align: top;\n",
       "    }\n",
       "\n",
       "    .dataframe thead th {\n",
       "        text-align: right;\n",
       "    }\n",
       "</style>\n",
       "<table border=\"1\" class=\"dataframe\">\n",
       "  <thead>\n",
       "    <tr style=\"text-align: right;\">\n",
       "      <th></th>\n",
       "      <th>created_at</th>\n",
       "      <th>text</th>\n",
       "      <th>url</th>\n",
       "      <th>replies</th>\n",
       "      <th>retweets</th>\n",
       "      <th>favorites</th>\n",
       "      <th>user</th>\n",
       "      <th>bioguide_id</th>\n",
       "      <th>party</th>\n",
       "      <th>state</th>\n",
       "    </tr>\n",
       "  </thead>\n",
       "  <tbody>\n",
       "    <tr>\n",
       "      <th>0</th>\n",
       "      <td>10/19/17 21:47</td>\n",
       "      <td>We released bipartisan healthcare bill today &amp;...</td>\n",
       "      <td>https://twitter.com/amyklobuchar/status/921130...</td>\n",
       "      <td>21</td>\n",
       "      <td>129</td>\n",
       "      <td>533</td>\n",
       "      <td>amyklobuchar</td>\n",
       "      <td>K000367</td>\n",
       "      <td>D</td>\n",
       "      <td>MN</td>\n",
       "    </tr>\n",
       "    <tr>\n",
       "      <th>1</th>\n",
       "      <td>10/19/17 18:48</td>\n",
       "      <td>I spoke with @Morning_Joe team abt #HonestAds ...</td>\n",
       "      <td>https://twitter.com/amyklobuchar/status/921085...</td>\n",
       "      <td>8</td>\n",
       "      <td>46</td>\n",
       "      <td>150</td>\n",
       "      <td>amyklobuchar</td>\n",
       "      <td>K000367</td>\n",
       "      <td>D</td>\n",
       "      <td>MN</td>\n",
       "    </tr>\n",
       "    <tr>\n",
       "      <th>2</th>\n",
       "      <td>10/19/17 18:14</td>\n",
       "      <td>Lots of interest in my bill with Senators Warn...</td>\n",
       "      <td>https://twitter.com/amyklobuchar/status/921077...</td>\n",
       "      <td>36</td>\n",
       "      <td>227</td>\n",
       "      <td>932</td>\n",
       "      <td>amyklobuchar</td>\n",
       "      <td>K000367</td>\n",
       "      <td>D</td>\n",
       "      <td>MN</td>\n",
       "    </tr>\n",
       "    <tr>\n",
       "      <th>3</th>\n",
       "      <td>10/19/17 18:04</td>\n",
       "      <td>Today's the day @MarkWarner, @SenJohnMcCain &amp;a...</td>\n",
       "      <td>https://twitter.com/amyklobuchar/status/921074...</td>\n",
       "      <td>17</td>\n",
       "      <td>167</td>\n",
       "      <td>550</td>\n",
       "      <td>amyklobuchar</td>\n",
       "      <td>K000367</td>\n",
       "      <td>D</td>\n",
       "      <td>MN</td>\n",
       "    </tr>\n",
       "    <tr>\n",
       "      <th>4</th>\n",
       "      <td>10/19/17 16:33</td>\n",
       "      <td>.@MarkWarner, @SenJohnMcCain &amp;amp; I put toget...</td>\n",
       "      <td>https://twitter.com/amyklobuchar/status/921051...</td>\n",
       "      <td>31</td>\n",
       "      <td>279</td>\n",
       "      <td>893</td>\n",
       "      <td>amyklobuchar</td>\n",
       "      <td>K000367</td>\n",
       "      <td>D</td>\n",
       "      <td>MN</td>\n",
       "    </tr>\n",
       "  </tbody>\n",
       "</table>\n",
       "</div>"
      ],
      "text/plain": [
       "       created_at                                               text  \\\n",
       "0  10/19/17 21:47  We released bipartisan healthcare bill today &...   \n",
       "1  10/19/17 18:48  I spoke with @Morning_Joe team abt #HonestAds ...   \n",
       "2  10/19/17 18:14  Lots of interest in my bill with Senators Warn...   \n",
       "3  10/19/17 18:04  Today's the day @MarkWarner, @SenJohnMcCain &a...   \n",
       "4  10/19/17 16:33  .@MarkWarner, @SenJohnMcCain &amp; I put toget...   \n",
       "\n",
       "                                                 url  replies  retweets  \\\n",
       "0  https://twitter.com/amyklobuchar/status/921130...       21       129   \n",
       "1  https://twitter.com/amyklobuchar/status/921085...        8        46   \n",
       "2  https://twitter.com/amyklobuchar/status/921077...       36       227   \n",
       "3  https://twitter.com/amyklobuchar/status/921074...       17       167   \n",
       "4  https://twitter.com/amyklobuchar/status/921051...       31       279   \n",
       "\n",
       "   favorites          user bioguide_id party state  \n",
       "0        533  amyklobuchar     K000367     D    MN  \n",
       "1        150  amyklobuchar     K000367     D    MN  \n",
       "2        932  amyklobuchar     K000367     D    MN  \n",
       "3        550  amyklobuchar     K000367     D    MN  \n",
       "4        893  amyklobuchar     K000367     D    MN  "
      ]
     },
     "execution_count": 6,
     "metadata": {},
     "output_type": "execute_result"
    }
   ],
   "source": [
    "# tests\n",
    "print(my_df.shape)\n",
    "my_df.head()"
   ]
  },
  {
   "cell_type": "code",
   "execution_count": 7,
   "metadata": {},
   "outputs": [
    {
     "name": "stdout",
     "output_type": "stream",
     "text": [
      "(282360, 10)\n"
     ]
    }
   ],
   "source": [
    "# drop all tweets from a senator that isn't either Democratic or Republican \n",
    "my_df.drop((my_df[(my_df['party']!='R') & (my_df['party']!='D')].index), inplace=True)\n",
    "\n",
    "# make sure they were dropped\n",
    "print(my_df.shape)\n"
   ]
  },
  {
   "cell_type": "code",
   "execution_count": 8,
   "metadata": {},
   "outputs": [
    {
     "data": {
      "text/html": [
       "<div>\n",
       "<style scoped>\n",
       "    .dataframe tbody tr th:only-of-type {\n",
       "        vertical-align: middle;\n",
       "    }\n",
       "\n",
       "    .dataframe tbody tr th {\n",
       "        vertical-align: top;\n",
       "    }\n",
       "\n",
       "    .dataframe thead th {\n",
       "        text-align: right;\n",
       "    }\n",
       "</style>\n",
       "<table border=\"1\" class=\"dataframe\">\n",
       "  <thead>\n",
       "    <tr style=\"text-align: right;\">\n",
       "      <th></th>\n",
       "      <th>created_at</th>\n",
       "      <th>text</th>\n",
       "      <th>replies</th>\n",
       "      <th>retweets</th>\n",
       "      <th>favorites</th>\n",
       "      <th>user</th>\n",
       "      <th>party</th>\n",
       "      <th>state</th>\n",
       "    </tr>\n",
       "  </thead>\n",
       "  <tbody>\n",
       "    <tr>\n",
       "      <th>0</th>\n",
       "      <td>10/19/17 21:47</td>\n",
       "      <td>We released bipartisan healthcare bill today &amp;...</td>\n",
       "      <td>21</td>\n",
       "      <td>129</td>\n",
       "      <td>533</td>\n",
       "      <td>amyklobuchar</td>\n",
       "      <td>D</td>\n",
       "      <td>MN</td>\n",
       "    </tr>\n",
       "    <tr>\n",
       "      <th>1</th>\n",
       "      <td>10/19/17 18:48</td>\n",
       "      <td>I spoke with @Morning_Joe team abt #HonestAds ...</td>\n",
       "      <td>8</td>\n",
       "      <td>46</td>\n",
       "      <td>150</td>\n",
       "      <td>amyklobuchar</td>\n",
       "      <td>D</td>\n",
       "      <td>MN</td>\n",
       "    </tr>\n",
       "    <tr>\n",
       "      <th>2</th>\n",
       "      <td>10/19/17 18:14</td>\n",
       "      <td>Lots of interest in my bill with Senators Warn...</td>\n",
       "      <td>36</td>\n",
       "      <td>227</td>\n",
       "      <td>932</td>\n",
       "      <td>amyklobuchar</td>\n",
       "      <td>D</td>\n",
       "      <td>MN</td>\n",
       "    </tr>\n",
       "    <tr>\n",
       "      <th>3</th>\n",
       "      <td>10/19/17 18:04</td>\n",
       "      <td>Today's the day @MarkWarner, @SenJohnMcCain &amp;a...</td>\n",
       "      <td>17</td>\n",
       "      <td>167</td>\n",
       "      <td>550</td>\n",
       "      <td>amyklobuchar</td>\n",
       "      <td>D</td>\n",
       "      <td>MN</td>\n",
       "    </tr>\n",
       "    <tr>\n",
       "      <th>4</th>\n",
       "      <td>10/19/17 16:33</td>\n",
       "      <td>.@MarkWarner, @SenJohnMcCain &amp;amp; I put toget...</td>\n",
       "      <td>31</td>\n",
       "      <td>279</td>\n",
       "      <td>893</td>\n",
       "      <td>amyklobuchar</td>\n",
       "      <td>D</td>\n",
       "      <td>MN</td>\n",
       "    </tr>\n",
       "  </tbody>\n",
       "</table>\n",
       "</div>"
      ],
      "text/plain": [
       "       created_at                                               text  replies  \\\n",
       "0  10/19/17 21:47  We released bipartisan healthcare bill today &...       21   \n",
       "1  10/19/17 18:48  I spoke with @Morning_Joe team abt #HonestAds ...        8   \n",
       "2  10/19/17 18:14  Lots of interest in my bill with Senators Warn...       36   \n",
       "3  10/19/17 18:04  Today's the day @MarkWarner, @SenJohnMcCain &a...       17   \n",
       "4  10/19/17 16:33  .@MarkWarner, @SenJohnMcCain &amp; I put toget...       31   \n",
       "\n",
       "   retweets  favorites          user party state  \n",
       "0       129        533  amyklobuchar     D    MN  \n",
       "1        46        150  amyklobuchar     D    MN  \n",
       "2       227        932  amyklobuchar     D    MN  \n",
       "3       167        550  amyklobuchar     D    MN  \n",
       "4       279        893  amyklobuchar     D    MN  "
      ]
     },
     "execution_count": 8,
     "metadata": {},
     "output_type": "execute_result"
    }
   ],
   "source": [
    "# Drop columns I never use\n",
    "my_df = my_df.drop(columns = ['url','bioguide_id']) \n",
    "\n",
    "# Check that it worked\n",
    "my_df.head ()"
   ]
  },
  {
   "cell_type": "code",
   "execution_count": 9,
   "metadata": {},
   "outputs": [],
   "source": [
    "# Randomly sample 90% of my data to use for training/testing my separate models\n",
    "main_train_df = my_df.sample(frac=0.9) \n",
    "\n",
    "# Save the 10% of my data that was not sampled (that i am going to train with later) separately\n",
    "final_test_df = my_df[~my_df.apply(tuple,1).isin(main_train_df.apply(tuple,1))]"
   ]
  },
  {
   "cell_type": "code",
   "execution_count": 10,
   "metadata": {},
   "outputs": [
    {
     "data": {
      "text/plain": [
       "(25411, 8)"
      ]
     },
     "execution_count": 10,
     "metadata": {},
     "output_type": "execute_result"
    }
   ],
   "source": [
    "# make 2 copies of my randomly sampled main_train_df, so each of my models has their own\n",
    "tree_train_df = main_train_df.sample(frac=0.9) \n",
    "svm_train_df = tree_train_df.copy()\n",
    "\n",
    "# separate out the test sets fof both models\n",
    "tree_test_df = main_train_df[~main_train_df.apply(tuple,1).isin(tree_train_df.apply(tuple,1))]\n",
    "svm_test_df = tree_test_df.copy()\n",
    "\n",
    "# check the shape\n",
    "tree_test_df.shape"
   ]
  },
  {
   "cell_type": "markdown",
   "metadata": {},
   "source": [
    "## Model 1: Decision Tree\n",
    "***\n",
    "### Pre-processing my Tree Training Data\n",
    "***\n",
    "I want my decision tree to be in binary, meaning each column only has 2 possible values. Unfortunately, my Senator data is not set up that way. To start, I need to convert all of my columns into binary. To do this, I use a function I wrote called `make_bool`, which takes in some kind of condition and splits the column based on it into 2 options.\n",
    "- for the `made_At` column, I split based on if the tweet was sent before noon\n",
    "- for the `retweet` column, I split based on if the number of retweets is greater than the median\n",
    "- for the `replies` column, I split based on if the number of replies is greater than the median\n",
    "- for the `favorites` column, I split based on if the number of favorites is greater than the median\n",
    "- for the `user` column, I split based on the gender of the Senator\n",
    "- for the `state` column, I split based on whether the state historically votes blue or red\n",
    "- for the `text` column, I split based on whether the tweet mention trump\n",
    "\n",
    "Finally, I need to first split my train dataframe into `inputs_train` (everything but the `party` column), which are the variables I use to try and guess the `target_train` (only the `party` column), my target that I am trying to classify. "
   ]
  },
  {
   "cell_type": "code",
   "execution_count": 11,
   "metadata": {},
   "outputs": [],
   "source": [
    "# this is the function in my code used to turn columns into binary based on some condition\n",
    "# I have it included here as a reference \n",
    "\n",
    "def make_bool_col(data_pd, indx, column_name):\n",
    "\n",
    "    #indx = data_pd[column_name] > val\n",
    "    data_pd.loc[indx, column_name] = True\n",
    "    data_pd.loc[~indx, column_name] = False\n",
    "    \n",
    "    # count occurances of true and false\n",
    "    print(data_pd[column_name].value_counts())\n",
    "    \n",
    "    return data_pd"
   ]
  },
  {
   "cell_type": "code",
   "execution_count": 12,
   "metadata": {},
   "outputs": [
    {
     "name": "stdout",
     "output_type": "stream",
     "text": [
      "True     205162\n",
      "False     23550\n",
      "Name: created_at, dtype: int64\n"
     ]
    },
    {
     "data": {
      "text/html": [
       "<div>\n",
       "<style scoped>\n",
       "    .dataframe tbody tr th:only-of-type {\n",
       "        vertical-align: middle;\n",
       "    }\n",
       "\n",
       "    .dataframe tbody tr th {\n",
       "        vertical-align: top;\n",
       "    }\n",
       "\n",
       "    .dataframe thead th {\n",
       "        text-align: right;\n",
       "    }\n",
       "</style>\n",
       "<table border=\"1\" class=\"dataframe\">\n",
       "  <thead>\n",
       "    <tr style=\"text-align: right;\">\n",
       "      <th></th>\n",
       "      <th>created_at</th>\n",
       "      <th>text</th>\n",
       "      <th>replies</th>\n",
       "      <th>retweets</th>\n",
       "      <th>favorites</th>\n",
       "      <th>user</th>\n",
       "      <th>party</th>\n",
       "      <th>state</th>\n",
       "    </tr>\n",
       "  </thead>\n",
       "  <tbody>\n",
       "    <tr>\n",
       "      <th>224228</th>\n",
       "      <td>True</td>\n",
       "      <td>Sometimes bill titles have good acronyms, some...</td>\n",
       "      <td>3</td>\n",
       "      <td>22</td>\n",
       "      <td>16</td>\n",
       "      <td>SenMikeLee</td>\n",
       "      <td>R</td>\n",
       "      <td>UT</td>\n",
       "    </tr>\n",
       "    <tr>\n",
       "      <th>54651</th>\n",
       "      <td>True</td>\n",
       "      <td>Capping off state work period with town meetin...</td>\n",
       "      <td>1</td>\n",
       "      <td>1</td>\n",
       "      <td>2</td>\n",
       "      <td>MikeCrapo</td>\n",
       "      <td>R</td>\n",
       "      <td>ID</td>\n",
       "    </tr>\n",
       "    <tr>\n",
       "      <th>199809</th>\n",
       "      <td>True</td>\n",
       "      <td>Just asked @CDCgov @NIAIDNews officials about ...</td>\n",
       "      <td>0</td>\n",
       "      <td>2</td>\n",
       "      <td>4</td>\n",
       "      <td>SenJackReed</td>\n",
       "      <td>D</td>\n",
       "      <td>RI</td>\n",
       "    </tr>\n",
       "    <tr>\n",
       "      <th>13913</th>\n",
       "      <td>True</td>\n",
       "      <td>Great to meet John Reynolds at the UNI fb game...</td>\n",
       "      <td>0</td>\n",
       "      <td>0</td>\n",
       "      <td>0</td>\n",
       "      <td>ChuckGrassley</td>\n",
       "      <td>R</td>\n",
       "      <td>IA</td>\n",
       "    </tr>\n",
       "    <tr>\n",
       "      <th>114257</th>\n",
       "      <td>True</td>\n",
       "      <td>Good meeting w/ Georgian @AshleyBell45, associ...</td>\n",
       "      <td>2</td>\n",
       "      <td>6</td>\n",
       "      <td>24</td>\n",
       "      <td>SenatorIsakson</td>\n",
       "      <td>R</td>\n",
       "      <td>GA</td>\n",
       "    </tr>\n",
       "  </tbody>\n",
       "</table>\n",
       "</div>"
      ],
      "text/plain": [
       "       created_at                                               text  replies  \\\n",
       "224228       True  Sometimes bill titles have good acronyms, some...        3   \n",
       "54651        True  Capping off state work period with town meetin...        1   \n",
       "199809       True  Just asked @CDCgov @NIAIDNews officials about ...        0   \n",
       "13913        True  Great to meet John Reynolds at the UNI fb game...        0   \n",
       "114257       True  Good meeting w/ Georgian @AshleyBell45, associ...        2   \n",
       "\n",
       "        retweets  favorites            user party state  \n",
       "224228        22         16      SenMikeLee     R    UT  \n",
       "54651          1          2       MikeCrapo     R    ID  \n",
       "199809         2          4     SenJackReed     D    RI  \n",
       "13913          0          0   ChuckGrassley     R    IA  \n",
       "114257         6         24  SenatorIsakson     R    GA  "
      ]
     },
     "execution_count": 12,
     "metadata": {},
     "output_type": "execute_result"
    }
   ],
   "source": [
    "# make created_at column bool\n",
    "\n",
    "make_bool_col(tree_train_df, (tree_train_df['created_at'].str[-5:-3].astype(int) > 12), 'created_at')\n",
    "tree_train_df.head()"
   ]
  },
  {
   "cell_type": "code",
   "execution_count": 13,
   "metadata": {},
   "outputs": [
    {
     "name": "stdout",
     "output_type": "stream",
     "text": [
      "False    228537\n",
      "True        175\n",
      "Name: text, dtype: int64\n"
     ]
    },
    {
     "data": {
      "text/html": [
       "<div>\n",
       "<style scoped>\n",
       "    .dataframe tbody tr th:only-of-type {\n",
       "        vertical-align: middle;\n",
       "    }\n",
       "\n",
       "    .dataframe tbody tr th {\n",
       "        vertical-align: top;\n",
       "    }\n",
       "\n",
       "    .dataframe thead th {\n",
       "        text-align: right;\n",
       "    }\n",
       "</style>\n",
       "<table border=\"1\" class=\"dataframe\">\n",
       "  <thead>\n",
       "    <tr style=\"text-align: right;\">\n",
       "      <th></th>\n",
       "      <th>created_at</th>\n",
       "      <th>text</th>\n",
       "      <th>replies</th>\n",
       "      <th>retweets</th>\n",
       "      <th>favorites</th>\n",
       "      <th>user</th>\n",
       "      <th>party</th>\n",
       "      <th>state</th>\n",
       "    </tr>\n",
       "  </thead>\n",
       "  <tbody>\n",
       "    <tr>\n",
       "      <th>224228</th>\n",
       "      <td>True</td>\n",
       "      <td>False</td>\n",
       "      <td>3</td>\n",
       "      <td>22</td>\n",
       "      <td>16</td>\n",
       "      <td>SenMikeLee</td>\n",
       "      <td>R</td>\n",
       "      <td>UT</td>\n",
       "    </tr>\n",
       "    <tr>\n",
       "      <th>54651</th>\n",
       "      <td>True</td>\n",
       "      <td>False</td>\n",
       "      <td>1</td>\n",
       "      <td>1</td>\n",
       "      <td>2</td>\n",
       "      <td>MikeCrapo</td>\n",
       "      <td>R</td>\n",
       "      <td>ID</td>\n",
       "    </tr>\n",
       "    <tr>\n",
       "      <th>199809</th>\n",
       "      <td>True</td>\n",
       "      <td>False</td>\n",
       "      <td>0</td>\n",
       "      <td>2</td>\n",
       "      <td>4</td>\n",
       "      <td>SenJackReed</td>\n",
       "      <td>D</td>\n",
       "      <td>RI</td>\n",
       "    </tr>\n",
       "    <tr>\n",
       "      <th>13913</th>\n",
       "      <td>True</td>\n",
       "      <td>False</td>\n",
       "      <td>0</td>\n",
       "      <td>0</td>\n",
       "      <td>0</td>\n",
       "      <td>ChuckGrassley</td>\n",
       "      <td>R</td>\n",
       "      <td>IA</td>\n",
       "    </tr>\n",
       "    <tr>\n",
       "      <th>114257</th>\n",
       "      <td>True</td>\n",
       "      <td>False</td>\n",
       "      <td>2</td>\n",
       "      <td>6</td>\n",
       "      <td>24</td>\n",
       "      <td>SenatorIsakson</td>\n",
       "      <td>R</td>\n",
       "      <td>GA</td>\n",
       "    </tr>\n",
       "  </tbody>\n",
       "</table>\n",
       "</div>"
      ],
      "text/plain": [
       "       created_at   text  replies  retweets  favorites            user party  \\\n",
       "224228       True  False        3        22         16      SenMikeLee     R   \n",
       "54651        True  False        1         1          2       MikeCrapo     R   \n",
       "199809       True  False        0         2          4     SenJackReed     D   \n",
       "13913        True  False        0         0          0   ChuckGrassley     R   \n",
       "114257       True  False        2         6         24  SenatorIsakson     R   \n",
       "\n",
       "       state  \n",
       "224228    UT  \n",
       "54651     ID  \n",
       "199809    RI  \n",
       "13913     IA  \n",
       "114257    GA  "
      ]
     },
     "execution_count": 13,
     "metadata": {},
     "output_type": "execute_result"
    }
   ],
   "source": [
    "# make text column bool\n",
    "\n",
    "make_bool_col(tree_train_df, (tree_train_df['text'].str.contains('trump', case=True)), 'text') \n",
    "tree_train_df.head()"
   ]
  },
  {
   "cell_type": "code",
   "execution_count": 14,
   "metadata": {},
   "outputs": [
    {
     "name": "stdout",
     "output_type": "stream",
     "text": [
      "False    123526\n",
      "True     105186\n",
      "Name: replies, dtype: int64\n"
     ]
    },
    {
     "data": {
      "text/html": [
       "<div>\n",
       "<style scoped>\n",
       "    .dataframe tbody tr th:only-of-type {\n",
       "        vertical-align: middle;\n",
       "    }\n",
       "\n",
       "    .dataframe tbody tr th {\n",
       "        vertical-align: top;\n",
       "    }\n",
       "\n",
       "    .dataframe thead th {\n",
       "        text-align: right;\n",
       "    }\n",
       "</style>\n",
       "<table border=\"1\" class=\"dataframe\">\n",
       "  <thead>\n",
       "    <tr style=\"text-align: right;\">\n",
       "      <th></th>\n",
       "      <th>created_at</th>\n",
       "      <th>text</th>\n",
       "      <th>replies</th>\n",
       "      <th>retweets</th>\n",
       "      <th>favorites</th>\n",
       "      <th>user</th>\n",
       "      <th>party</th>\n",
       "      <th>state</th>\n",
       "    </tr>\n",
       "  </thead>\n",
       "  <tbody>\n",
       "    <tr>\n",
       "      <th>224228</th>\n",
       "      <td>True</td>\n",
       "      <td>False</td>\n",
       "      <td>False</td>\n",
       "      <td>22</td>\n",
       "      <td>16</td>\n",
       "      <td>SenMikeLee</td>\n",
       "      <td>R</td>\n",
       "      <td>UT</td>\n",
       "    </tr>\n",
       "    <tr>\n",
       "      <th>54651</th>\n",
       "      <td>True</td>\n",
       "      <td>False</td>\n",
       "      <td>False</td>\n",
       "      <td>1</td>\n",
       "      <td>2</td>\n",
       "      <td>MikeCrapo</td>\n",
       "      <td>R</td>\n",
       "      <td>ID</td>\n",
       "    </tr>\n",
       "    <tr>\n",
       "      <th>199809</th>\n",
       "      <td>True</td>\n",
       "      <td>False</td>\n",
       "      <td>False</td>\n",
       "      <td>2</td>\n",
       "      <td>4</td>\n",
       "      <td>SenJackReed</td>\n",
       "      <td>D</td>\n",
       "      <td>RI</td>\n",
       "    </tr>\n",
       "    <tr>\n",
       "      <th>13913</th>\n",
       "      <td>True</td>\n",
       "      <td>False</td>\n",
       "      <td>False</td>\n",
       "      <td>0</td>\n",
       "      <td>0</td>\n",
       "      <td>ChuckGrassley</td>\n",
       "      <td>R</td>\n",
       "      <td>IA</td>\n",
       "    </tr>\n",
       "    <tr>\n",
       "      <th>114257</th>\n",
       "      <td>True</td>\n",
       "      <td>False</td>\n",
       "      <td>False</td>\n",
       "      <td>6</td>\n",
       "      <td>24</td>\n",
       "      <td>SenatorIsakson</td>\n",
       "      <td>R</td>\n",
       "      <td>GA</td>\n",
       "    </tr>\n",
       "  </tbody>\n",
       "</table>\n",
       "</div>"
      ],
      "text/plain": [
       "       created_at   text replies  retweets  favorites            user party  \\\n",
       "224228       True  False   False        22         16      SenMikeLee     R   \n",
       "54651        True  False   False         1          2       MikeCrapo     R   \n",
       "199809       True  False   False         2          4     SenJackReed     D   \n",
       "13913        True  False   False         0          0   ChuckGrassley     R   \n",
       "114257       True  False   False         6         24  SenatorIsakson     R   \n",
       "\n",
       "       state  \n",
       "224228    UT  \n",
       "54651     ID  \n",
       "199809    RI  \n",
       "13913     IA  \n",
       "114257    GA  "
      ]
     },
     "execution_count": 14,
     "metadata": {},
     "output_type": "execute_result"
    }
   ],
   "source": [
    "# make replies column bool\n",
    "\n",
    "make_bool_col(tree_train_df, (tree_train_df['replies'] > tree_train_df['replies'].median()), 'replies')\n",
    "tree_train_df.head()"
   ]
  },
  {
   "cell_type": "code",
   "execution_count": 15,
   "metadata": {},
   "outputs": [
    {
     "name": "stdout",
     "output_type": "stream",
     "text": [
      "False    120426\n",
      "True     108286\n",
      "Name: retweets, dtype: int64\n"
     ]
    },
    {
     "data": {
      "text/html": [
       "<div>\n",
       "<style scoped>\n",
       "    .dataframe tbody tr th:only-of-type {\n",
       "        vertical-align: middle;\n",
       "    }\n",
       "\n",
       "    .dataframe tbody tr th {\n",
       "        vertical-align: top;\n",
       "    }\n",
       "\n",
       "    .dataframe thead th {\n",
       "        text-align: right;\n",
       "    }\n",
       "</style>\n",
       "<table border=\"1\" class=\"dataframe\">\n",
       "  <thead>\n",
       "    <tr style=\"text-align: right;\">\n",
       "      <th></th>\n",
       "      <th>created_at</th>\n",
       "      <th>text</th>\n",
       "      <th>replies</th>\n",
       "      <th>retweets</th>\n",
       "      <th>favorites</th>\n",
       "      <th>user</th>\n",
       "      <th>party</th>\n",
       "      <th>state</th>\n",
       "    </tr>\n",
       "  </thead>\n",
       "  <tbody>\n",
       "    <tr>\n",
       "      <th>224228</th>\n",
       "      <td>True</td>\n",
       "      <td>False</td>\n",
       "      <td>False</td>\n",
       "      <td>True</td>\n",
       "      <td>16</td>\n",
       "      <td>SenMikeLee</td>\n",
       "      <td>R</td>\n",
       "      <td>UT</td>\n",
       "    </tr>\n",
       "    <tr>\n",
       "      <th>54651</th>\n",
       "      <td>True</td>\n",
       "      <td>False</td>\n",
       "      <td>False</td>\n",
       "      <td>False</td>\n",
       "      <td>2</td>\n",
       "      <td>MikeCrapo</td>\n",
       "      <td>R</td>\n",
       "      <td>ID</td>\n",
       "    </tr>\n",
       "    <tr>\n",
       "      <th>199809</th>\n",
       "      <td>True</td>\n",
       "      <td>False</td>\n",
       "      <td>False</td>\n",
       "      <td>False</td>\n",
       "      <td>4</td>\n",
       "      <td>SenJackReed</td>\n",
       "      <td>D</td>\n",
       "      <td>RI</td>\n",
       "    </tr>\n",
       "    <tr>\n",
       "      <th>13913</th>\n",
       "      <td>True</td>\n",
       "      <td>False</td>\n",
       "      <td>False</td>\n",
       "      <td>False</td>\n",
       "      <td>0</td>\n",
       "      <td>ChuckGrassley</td>\n",
       "      <td>R</td>\n",
       "      <td>IA</td>\n",
       "    </tr>\n",
       "    <tr>\n",
       "      <th>114257</th>\n",
       "      <td>True</td>\n",
       "      <td>False</td>\n",
       "      <td>False</td>\n",
       "      <td>False</td>\n",
       "      <td>24</td>\n",
       "      <td>SenatorIsakson</td>\n",
       "      <td>R</td>\n",
       "      <td>GA</td>\n",
       "    </tr>\n",
       "  </tbody>\n",
       "</table>\n",
       "</div>"
      ],
      "text/plain": [
       "       created_at   text replies retweets  favorites            user party  \\\n",
       "224228       True  False   False     True         16      SenMikeLee     R   \n",
       "54651        True  False   False    False          2       MikeCrapo     R   \n",
       "199809       True  False   False    False          4     SenJackReed     D   \n",
       "13913        True  False   False    False          0   ChuckGrassley     R   \n",
       "114257       True  False   False    False         24  SenatorIsakson     R   \n",
       "\n",
       "       state  \n",
       "224228    UT  \n",
       "54651     ID  \n",
       "199809    RI  \n",
       "13913     IA  \n",
       "114257    GA  "
      ]
     },
     "execution_count": 15,
     "metadata": {},
     "output_type": "execute_result"
    }
   ],
   "source": [
    "# make retweet column bool\n",
    "\n",
    "make_bool_col(tree_train_df, (tree_train_df['retweets'] > tree_train_df['retweets'].median()), 'retweets')\n",
    "tree_train_df.head()"
   ]
  },
  {
   "cell_type": "code",
   "execution_count": 16,
   "metadata": {},
   "outputs": [
    {
     "name": "stdout",
     "output_type": "stream",
     "text": [
      "False    114792\n",
      "True     113920\n",
      "Name: favorites, dtype: int64\n"
     ]
    },
    {
     "data": {
      "text/html": [
       "<div>\n",
       "<style scoped>\n",
       "    .dataframe tbody tr th:only-of-type {\n",
       "        vertical-align: middle;\n",
       "    }\n",
       "\n",
       "    .dataframe tbody tr th {\n",
       "        vertical-align: top;\n",
       "    }\n",
       "\n",
       "    .dataframe thead th {\n",
       "        text-align: right;\n",
       "    }\n",
       "</style>\n",
       "<table border=\"1\" class=\"dataframe\">\n",
       "  <thead>\n",
       "    <tr style=\"text-align: right;\">\n",
       "      <th></th>\n",
       "      <th>created_at</th>\n",
       "      <th>text</th>\n",
       "      <th>replies</th>\n",
       "      <th>retweets</th>\n",
       "      <th>favorites</th>\n",
       "      <th>user</th>\n",
       "      <th>party</th>\n",
       "      <th>state</th>\n",
       "    </tr>\n",
       "  </thead>\n",
       "  <tbody>\n",
       "    <tr>\n",
       "      <th>224228</th>\n",
       "      <td>True</td>\n",
       "      <td>False</td>\n",
       "      <td>False</td>\n",
       "      <td>True</td>\n",
       "      <td>True</td>\n",
       "      <td>SenMikeLee</td>\n",
       "      <td>R</td>\n",
       "      <td>UT</td>\n",
       "    </tr>\n",
       "    <tr>\n",
       "      <th>54651</th>\n",
       "      <td>True</td>\n",
       "      <td>False</td>\n",
       "      <td>False</td>\n",
       "      <td>False</td>\n",
       "      <td>False</td>\n",
       "      <td>MikeCrapo</td>\n",
       "      <td>R</td>\n",
       "      <td>ID</td>\n",
       "    </tr>\n",
       "    <tr>\n",
       "      <th>199809</th>\n",
       "      <td>True</td>\n",
       "      <td>False</td>\n",
       "      <td>False</td>\n",
       "      <td>False</td>\n",
       "      <td>False</td>\n",
       "      <td>SenJackReed</td>\n",
       "      <td>D</td>\n",
       "      <td>RI</td>\n",
       "    </tr>\n",
       "    <tr>\n",
       "      <th>13913</th>\n",
       "      <td>True</td>\n",
       "      <td>False</td>\n",
       "      <td>False</td>\n",
       "      <td>False</td>\n",
       "      <td>False</td>\n",
       "      <td>ChuckGrassley</td>\n",
       "      <td>R</td>\n",
       "      <td>IA</td>\n",
       "    </tr>\n",
       "    <tr>\n",
       "      <th>114257</th>\n",
       "      <td>True</td>\n",
       "      <td>False</td>\n",
       "      <td>False</td>\n",
       "      <td>False</td>\n",
       "      <td>True</td>\n",
       "      <td>SenatorIsakson</td>\n",
       "      <td>R</td>\n",
       "      <td>GA</td>\n",
       "    </tr>\n",
       "  </tbody>\n",
       "</table>\n",
       "</div>"
      ],
      "text/plain": [
       "       created_at   text replies retweets favorites            user party  \\\n",
       "224228       True  False   False     True      True      SenMikeLee     R   \n",
       "54651        True  False   False    False     False       MikeCrapo     R   \n",
       "199809       True  False   False    False     False     SenJackReed     D   \n",
       "13913        True  False   False    False     False   ChuckGrassley     R   \n",
       "114257       True  False   False    False      True  SenatorIsakson     R   \n",
       "\n",
       "       state  \n",
       "224228    UT  \n",
       "54651     ID  \n",
       "199809    RI  \n",
       "13913     IA  \n",
       "114257    GA  "
      ]
     },
     "execution_count": 16,
     "metadata": {},
     "output_type": "execute_result"
    }
   ],
   "source": [
    "# make favorite column bool\n",
    "\n",
    "make_bool_col(tree_train_df, (tree_train_df['favorites'] > tree_train_df['favorites'].median()), 'favorites')\n",
    "tree_train_df.head()"
   ]
  },
  {
   "cell_type": "code",
   "execution_count": 17,
   "metadata": {},
   "outputs": [
    {
     "name": "stdout",
     "output_type": "stream",
     "text": [
      "False    176810\n",
      "True      51902\n",
      "Name: user, dtype: int64\n"
     ]
    },
    {
     "data": {
      "text/html": [
       "<div>\n",
       "<style scoped>\n",
       "    .dataframe tbody tr th:only-of-type {\n",
       "        vertical-align: middle;\n",
       "    }\n",
       "\n",
       "    .dataframe tbody tr th {\n",
       "        vertical-align: top;\n",
       "    }\n",
       "\n",
       "    .dataframe thead th {\n",
       "        text-align: right;\n",
       "    }\n",
       "</style>\n",
       "<table border=\"1\" class=\"dataframe\">\n",
       "  <thead>\n",
       "    <tr style=\"text-align: right;\">\n",
       "      <th></th>\n",
       "      <th>created_at</th>\n",
       "      <th>text</th>\n",
       "      <th>replies</th>\n",
       "      <th>retweets</th>\n",
       "      <th>favorites</th>\n",
       "      <th>user</th>\n",
       "      <th>party</th>\n",
       "      <th>state</th>\n",
       "    </tr>\n",
       "  </thead>\n",
       "  <tbody>\n",
       "    <tr>\n",
       "      <th>224228</th>\n",
       "      <td>True</td>\n",
       "      <td>False</td>\n",
       "      <td>False</td>\n",
       "      <td>True</td>\n",
       "      <td>True</td>\n",
       "      <td>False</td>\n",
       "      <td>R</td>\n",
       "      <td>UT</td>\n",
       "    </tr>\n",
       "    <tr>\n",
       "      <th>54651</th>\n",
       "      <td>True</td>\n",
       "      <td>False</td>\n",
       "      <td>False</td>\n",
       "      <td>False</td>\n",
       "      <td>False</td>\n",
       "      <td>False</td>\n",
       "      <td>R</td>\n",
       "      <td>ID</td>\n",
       "    </tr>\n",
       "    <tr>\n",
       "      <th>199809</th>\n",
       "      <td>True</td>\n",
       "      <td>False</td>\n",
       "      <td>False</td>\n",
       "      <td>False</td>\n",
       "      <td>False</td>\n",
       "      <td>False</td>\n",
       "      <td>D</td>\n",
       "      <td>RI</td>\n",
       "    </tr>\n",
       "    <tr>\n",
       "      <th>13913</th>\n",
       "      <td>True</td>\n",
       "      <td>False</td>\n",
       "      <td>False</td>\n",
       "      <td>False</td>\n",
       "      <td>False</td>\n",
       "      <td>False</td>\n",
       "      <td>R</td>\n",
       "      <td>IA</td>\n",
       "    </tr>\n",
       "    <tr>\n",
       "      <th>114257</th>\n",
       "      <td>True</td>\n",
       "      <td>False</td>\n",
       "      <td>False</td>\n",
       "      <td>False</td>\n",
       "      <td>True</td>\n",
       "      <td>False</td>\n",
       "      <td>R</td>\n",
       "      <td>GA</td>\n",
       "    </tr>\n",
       "  </tbody>\n",
       "</table>\n",
       "</div>"
      ],
      "text/plain": [
       "       created_at   text replies retweets favorites   user party state\n",
       "224228       True  False   False     True      True  False     R    UT\n",
       "54651        True  False   False    False     False  False     R    ID\n",
       "199809       True  False   False    False     False  False     D    RI\n",
       "13913        True  False   False    False     False  False     R    IA\n",
       "114257       True  False   False    False      True  False     R    GA"
      ]
     },
     "execution_count": 17,
     "metadata": {},
     "output_type": "execute_result"
    }
   ],
   "source": [
    "# make user column bool\n",
    "\n",
    "# list of female senator names\n",
    "indx = tree_train_df['user'].isin(['amyklobuchar', 'LindseyGrahamSC', 'lisamurkowski', 'maziehirono', 'McCaskillOffice', 'PattyMurray',\n",
    "        'SenatorBaldwin', 'SenatorCantwell', 'SenatorCollins', 'SenatorFischer', 'SenatorHassan', \n",
    "        'SenatorHeitkamp', 'SenatorShaheen', 'SenCapito', 'SenCortezMasto', 'SenDuckworth', 'SenFeinstein',\n",
    "        'SenGillibrand', 'SenJoniErnst', 'SenKamalaHarris', 'SenStabenow', 'SenWarren' ])\n",
    "\n",
    "make_bool_col(tree_train_df, indx, 'user')\n",
    "tree_train_df.head()\n"
   ]
  },
  {
   "cell_type": "code",
   "execution_count": 18,
   "metadata": {},
   "outputs": [
    {
     "name": "stdout",
     "output_type": "stream",
     "text": [
      "False    118703\n",
      "True     110009\n",
      "Name: party, dtype: int64\n"
     ]
    },
    {
     "data": {
      "text/html": [
       "<div>\n",
       "<style scoped>\n",
       "    .dataframe tbody tr th:only-of-type {\n",
       "        vertical-align: middle;\n",
       "    }\n",
       "\n",
       "    .dataframe tbody tr th {\n",
       "        vertical-align: top;\n",
       "    }\n",
       "\n",
       "    .dataframe thead th {\n",
       "        text-align: right;\n",
       "    }\n",
       "</style>\n",
       "<table border=\"1\" class=\"dataframe\">\n",
       "  <thead>\n",
       "    <tr style=\"text-align: right;\">\n",
       "      <th></th>\n",
       "      <th>created_at</th>\n",
       "      <th>text</th>\n",
       "      <th>replies</th>\n",
       "      <th>retweets</th>\n",
       "      <th>favorites</th>\n",
       "      <th>user</th>\n",
       "      <th>party</th>\n",
       "      <th>state</th>\n",
       "    </tr>\n",
       "  </thead>\n",
       "  <tbody>\n",
       "    <tr>\n",
       "      <th>224228</th>\n",
       "      <td>True</td>\n",
       "      <td>False</td>\n",
       "      <td>False</td>\n",
       "      <td>True</td>\n",
       "      <td>True</td>\n",
       "      <td>False</td>\n",
       "      <td>False</td>\n",
       "      <td>UT</td>\n",
       "    </tr>\n",
       "    <tr>\n",
       "      <th>54651</th>\n",
       "      <td>True</td>\n",
       "      <td>False</td>\n",
       "      <td>False</td>\n",
       "      <td>False</td>\n",
       "      <td>False</td>\n",
       "      <td>False</td>\n",
       "      <td>False</td>\n",
       "      <td>ID</td>\n",
       "    </tr>\n",
       "    <tr>\n",
       "      <th>199809</th>\n",
       "      <td>True</td>\n",
       "      <td>False</td>\n",
       "      <td>False</td>\n",
       "      <td>False</td>\n",
       "      <td>False</td>\n",
       "      <td>False</td>\n",
       "      <td>True</td>\n",
       "      <td>RI</td>\n",
       "    </tr>\n",
       "    <tr>\n",
       "      <th>13913</th>\n",
       "      <td>True</td>\n",
       "      <td>False</td>\n",
       "      <td>False</td>\n",
       "      <td>False</td>\n",
       "      <td>False</td>\n",
       "      <td>False</td>\n",
       "      <td>False</td>\n",
       "      <td>IA</td>\n",
       "    </tr>\n",
       "    <tr>\n",
       "      <th>114257</th>\n",
       "      <td>True</td>\n",
       "      <td>False</td>\n",
       "      <td>False</td>\n",
       "      <td>False</td>\n",
       "      <td>True</td>\n",
       "      <td>False</td>\n",
       "      <td>False</td>\n",
       "      <td>GA</td>\n",
       "    </tr>\n",
       "    <tr>\n",
       "      <th>...</th>\n",
       "      <td>...</td>\n",
       "      <td>...</td>\n",
       "      <td>...</td>\n",
       "      <td>...</td>\n",
       "      <td>...</td>\n",
       "      <td>...</td>\n",
       "      <td>...</td>\n",
       "      <td>...</td>\n",
       "    </tr>\n",
       "    <tr>\n",
       "      <th>218803</th>\n",
       "      <td>True</td>\n",
       "      <td>False</td>\n",
       "      <td>True</td>\n",
       "      <td>False</td>\n",
       "      <td>False</td>\n",
       "      <td>True</td>\n",
       "      <td>False</td>\n",
       "      <td>IA</td>\n",
       "    </tr>\n",
       "    <tr>\n",
       "      <th>259935</th>\n",
       "      <td>True</td>\n",
       "      <td>False</td>\n",
       "      <td>True</td>\n",
       "      <td>True</td>\n",
       "      <td>True</td>\n",
       "      <td>False</td>\n",
       "      <td>False</td>\n",
       "      <td>TX</td>\n",
       "    </tr>\n",
       "    <tr>\n",
       "      <th>207833</th>\n",
       "      <td>True</td>\n",
       "      <td>False</td>\n",
       "      <td>True</td>\n",
       "      <td>False</td>\n",
       "      <td>False</td>\n",
       "      <td>False</td>\n",
       "      <td>False</td>\n",
       "      <td>WY</td>\n",
       "    </tr>\n",
       "    <tr>\n",
       "      <th>10022</th>\n",
       "      <td>True</td>\n",
       "      <td>False</td>\n",
       "      <td>True</td>\n",
       "      <td>True</td>\n",
       "      <td>True</td>\n",
       "      <td>False</td>\n",
       "      <td>True</td>\n",
       "      <td>MD</td>\n",
       "    </tr>\n",
       "    <tr>\n",
       "      <th>237282</th>\n",
       "      <td>True</td>\n",
       "      <td>False</td>\n",
       "      <td>True</td>\n",
       "      <td>False</td>\n",
       "      <td>True</td>\n",
       "      <td>False</td>\n",
       "      <td>False</td>\n",
       "      <td>OH</td>\n",
       "    </tr>\n",
       "  </tbody>\n",
       "</table>\n",
       "<p>228712 rows × 8 columns</p>\n",
       "</div>"
      ],
      "text/plain": [
       "       created_at   text replies retweets favorites   user  party state\n",
       "224228       True  False   False     True      True  False  False    UT\n",
       "54651        True  False   False    False     False  False  False    ID\n",
       "199809       True  False   False    False     False  False   True    RI\n",
       "13913        True  False   False    False     False  False  False    IA\n",
       "114257       True  False   False    False      True  False  False    GA\n",
       "...           ...    ...     ...      ...       ...    ...    ...   ...\n",
       "218803       True  False    True    False     False   True  False    IA\n",
       "259935       True  False    True     True      True  False  False    TX\n",
       "207833       True  False    True    False     False  False  False    WY\n",
       "10022        True  False    True     True      True  False   True    MD\n",
       "237282       True  False    True    False      True  False  False    OH\n",
       "\n",
       "[228712 rows x 8 columns]"
      ]
     },
     "execution_count": 18,
     "metadata": {},
     "output_type": "execute_result"
    }
   ],
   "source": [
    "# make party column bool\n",
    "\n",
    "make_bool_col(tree_train_df, tree_train_df['party'] == 'D', 'party') "
   ]
  },
  {
   "cell_type": "code",
   "execution_count": 19,
   "metadata": {},
   "outputs": [
    {
     "name": "stdout",
     "output_type": "stream",
     "text": [
      "False    119401\n",
      "True     109311\n",
      "Name: state, dtype: int64\n"
     ]
    },
    {
     "data": {
      "text/html": [
       "<div>\n",
       "<style scoped>\n",
       "    .dataframe tbody tr th:only-of-type {\n",
       "        vertical-align: middle;\n",
       "    }\n",
       "\n",
       "    .dataframe tbody tr th {\n",
       "        vertical-align: top;\n",
       "    }\n",
       "\n",
       "    .dataframe thead th {\n",
       "        text-align: right;\n",
       "    }\n",
       "</style>\n",
       "<table border=\"1\" class=\"dataframe\">\n",
       "  <thead>\n",
       "    <tr style=\"text-align: right;\">\n",
       "      <th></th>\n",
       "      <th>created_at</th>\n",
       "      <th>text</th>\n",
       "      <th>replies</th>\n",
       "      <th>retweets</th>\n",
       "      <th>favorites</th>\n",
       "      <th>user</th>\n",
       "      <th>party</th>\n",
       "      <th>state</th>\n",
       "    </tr>\n",
       "  </thead>\n",
       "  <tbody>\n",
       "    <tr>\n",
       "      <th>224228</th>\n",
       "      <td>True</td>\n",
       "      <td>False</td>\n",
       "      <td>False</td>\n",
       "      <td>True</td>\n",
       "      <td>True</td>\n",
       "      <td>False</td>\n",
       "      <td>False</td>\n",
       "      <td>True</td>\n",
       "    </tr>\n",
       "    <tr>\n",
       "      <th>54651</th>\n",
       "      <td>True</td>\n",
       "      <td>False</td>\n",
       "      <td>False</td>\n",
       "      <td>False</td>\n",
       "      <td>False</td>\n",
       "      <td>False</td>\n",
       "      <td>False</td>\n",
       "      <td>True</td>\n",
       "    </tr>\n",
       "    <tr>\n",
       "      <th>199809</th>\n",
       "      <td>True</td>\n",
       "      <td>False</td>\n",
       "      <td>False</td>\n",
       "      <td>False</td>\n",
       "      <td>False</td>\n",
       "      <td>False</td>\n",
       "      <td>True</td>\n",
       "      <td>False</td>\n",
       "    </tr>\n",
       "    <tr>\n",
       "      <th>13913</th>\n",
       "      <td>True</td>\n",
       "      <td>False</td>\n",
       "      <td>False</td>\n",
       "      <td>False</td>\n",
       "      <td>False</td>\n",
       "      <td>False</td>\n",
       "      <td>False</td>\n",
       "      <td>True</td>\n",
       "    </tr>\n",
       "    <tr>\n",
       "      <th>114257</th>\n",
       "      <td>True</td>\n",
       "      <td>False</td>\n",
       "      <td>False</td>\n",
       "      <td>False</td>\n",
       "      <td>True</td>\n",
       "      <td>False</td>\n",
       "      <td>False</td>\n",
       "      <td>False</td>\n",
       "    </tr>\n",
       "  </tbody>\n",
       "</table>\n",
       "</div>"
      ],
      "text/plain": [
       "       created_at   text replies retweets favorites   user  party  state\n",
       "224228       True  False   False     True      True  False  False   True\n",
       "54651        True  False   False    False     False  False  False   True\n",
       "199809       True  False   False    False     False  False   True  False\n",
       "13913        True  False   False    False     False  False  False   True\n",
       "114257       True  False   False    False      True  False  False  False"
      ]
     },
     "execution_count": 19,
     "metadata": {},
     "output_type": "execute_result"
    }
   ],
   "source": [
    "# make state column bool\n",
    "\n",
    "# list of historically red states\n",
    "indx = tree_train_df['state'].isin(['ID','WA', 'WY','UT','ND','SD',\n",
    "                            'NE', 'IA','KS','OK','TX','AR',\n",
    "                            'MO', 'LA','MS','AL','FL','TN', \n",
    "                            'KY', 'IN','OH','WV','NC','SC', 'FL'])\n",
    "\n",
    "make_bool_col(tree_train_df, indx, 'state') \n",
    "tree_train_df.head()"
   ]
  },
  {
   "cell_type": "code",
   "execution_count": 20,
   "metadata": {},
   "outputs": [
    {
     "name": "stdout",
     "output_type": "stream",
     "text": [
      "['created_at', 'text', 'replies', 'retweets', 'favorites', 'user', 'state']\n"
     ]
    }
   ],
   "source": [
    "# Split train data into the input variables and the target classes\n",
    "inputs_train = tree_train_df.loc[:, tree_train_df.columns != 'party'].to_numpy(dtype = np.float16)\n",
    "target_train = tree_train_df.loc[:, tree_train_df.columns == 'party'].to_numpy(dtype = np.float16)\n",
    "\n",
    "# Get the variable names \n",
    "var_names = list(x for x in tree_train_df.columns if x != 'party') \n",
    "print(var_names)"
   ]
  },
  {
   "cell_type": "code",
   "execution_count": 21,
   "metadata": {},
   "outputs": [
    {
     "name": "stdout",
     "output_type": "stream",
     "text": [
      "(228712, 7)\n",
      "(228712, 1)\n"
     ]
    }
   ],
   "source": [
    "# test that split worked\n",
    "print(np.shape(inputs_train))\n",
    "print(np.shape(target_train))"
   ]
  },
  {
   "cell_type": "markdown",
   "metadata": {},
   "source": [
    "### Column evaluation\n",
    "***\n",
    "I want to know how useful each column split is for categorizing the tweet party. To understand this better, I evaluate 2 metrics:\n",
    "\n",
    "1. the gini index for the true and false values of each split. The gini index is a measure of statistical dispersal, so a lower gini indicates a better (more homogenous) split. If the true and false groups are very dispersed, it could mean that there isn't a very significant difference after the split\n",
    "\n",
    "2. the info gain for each column. The info gain  tells us how much entropy (kind of like variance) our data loses after splitting, so a higher info gain is better, since we want the target variable to lose variance witht he split, which implies that the split is an important determining factor. \n",
    "\n",
    "Based on my results, the state of the Senator is definitely the strongest predictor of the set. Based on the gini index, tweet text is also pretty good, but more so if the tweet contains the word \"Trump\" than if not. User is also a good predictor, but again, more so if the gender of the user is Female. "
   ]
  },
  {
   "cell_type": "code",
   "execution_count": 22,
   "metadata": {},
   "outputs": [
    {
     "name": "stdout",
     "output_type": "stream",
     "text": [
      "The false value for \"created_at\" is: 0.4910884498356931\n",
      "The true value for \"created_at\" is: 0.4996341002418705\n",
      "\n",
      "The false value for \"text\" is: 0.49926117685546967\n",
      "The true value for \"text\" is: 0.3648\n",
      "\n",
      "The false value for \"replies\" is: 0.4970823774160892\n",
      "The true value for \"replies\" is: 0.49997511933781735\n",
      "\n",
      "The false value for \"retweets\" is: 0.4666492107679798\n",
      "The true value for \"retweets\" is: 0.4785892651635566\n",
      "\n",
      "The false value for \"favorites\" is: 0.4588637492235621\n",
      "The true value for \"favorites\" is: 0.4773770845497728\n",
      "\n",
      "The false value for \"user\" is: 0.48225165869574504\n",
      "The true value for \"user\" is: 0.3875117002910491\n",
      "\n",
      "The false value for \"state\" is: 0.3604165823646228\n",
      "The true value for \"state\" is: 0.28439378363822465\n",
      "\n"
     ]
    }
   ],
   "source": [
    "# the gini index of each column\n",
    "\n",
    "col_gini(tree_train_df, 'created_at', 'party')\n",
    "\n",
    "col_gini(tree_train_df, 'text', 'party')\n",
    "\n",
    "col_gini(tree_train_df, 'replies', 'party')\n",
    "\n",
    "col_gini(tree_train_df, 'retweets', 'party')\n",
    "\n",
    "col_gini(tree_train_df, 'favorites', 'party')\n",
    "\n",
    "col_gini(tree_train_df, 'user', 'party')\n",
    "\n",
    "col_gini(tree_train_df, 'state', 'party') \n"
   ]
  },
  {
   "cell_type": "code",
   "execution_count": 23,
   "metadata": {},
   "outputs": [
    {
     "name": "stdout",
     "output_type": "stream",
     "text": [
      "the info gain for created_at is 0.0007886305285531581\n",
      "the info gain for text is -3.209145132110347e-05\n",
      "the info gain for replies is 0.0007363775354597424\n",
      "the info gain for retweets is 0.02654737070627572\n",
      "the info gain for favorites is 0.031291223062919316\n",
      "the info gain for user is 0.022317741408657832\n",
      "the info gain for state is 0.1766073750326217\n"
     ]
    }
   ],
   "source": [
    "# the info gains here tells us how much information each split provides about 'party'\n",
    "print('the info gain for created_at is ' + str(info_gain(tree_train_df, 'created_at', 'party')))\n",
    "print('the info gain for text is ' + str(info_gain(tree_train_df, 'text', 'party')))\n",
    "print('the info gain for replies is ' + str(info_gain(tree_train_df, 'replies', 'party')))\n",
    "print('the info gain for retweets is ' + str(info_gain(tree_train_df, 'retweets', 'party')))\n",
    "print('the info gain for favorites is ' + str(info_gain(tree_train_df, 'favorites', 'party')))\n",
    "print('the info gain for user is ' + str(info_gain(tree_train_df, 'user', 'party')))\n",
    "print('the info gain for state is ' + str(info_gain(tree_train_df, 'state', 'party')))\n"
   ]
  },
  {
   "cell_type": "markdown",
   "metadata": {},
   "source": [
    "### Pre-processing my Tree Testing Data\n",
    "***\n",
    "In order to use it effectively, I need to pre-process my tree test data the same way I did the train data. So here I am converting each column to booleans using the same parameters (with different median values). \n",
    "\n",
    "Then, I split my test data into inputs and outputs as well. `inputs_test` has everything but the `party` column, and is used to try and guess the `target_test` (only the `party` column)"
   ]
  },
  {
   "cell_type": "code",
   "execution_count": 24,
   "metadata": {},
   "outputs": [
    {
     "name": "stdout",
     "output_type": "stream",
     "text": [
      "True     22838\n",
      "False     2573\n",
      "Name: created_at, dtype: int64\n",
      "False    25396\n",
      "True        15\n",
      "Name: text, dtype: int64\n",
      "False    13714\n",
      "True     11697\n",
      "Name: replies, dtype: int64\n",
      "False    13376\n",
      "True     12035\n",
      "Name: retweets, dtype: int64\n",
      "False    12769\n",
      "True     12642\n",
      "Name: favorites, dtype: int64\n",
      "False    19572\n",
      "True      5839\n",
      "Name: user, dtype: int64\n",
      "False    13108\n",
      "True     12303\n",
      "Name: party, dtype: int64\n",
      "False    13335\n",
      "True     12076\n",
      "Name: state, dtype: int64\n",
      "(25411, 7)\n",
      "(25411, 1)\n"
     ]
    },
    {
     "name": "stderr",
     "output_type": "stream",
     "text": [
      "/var/folders/db/xmky6pss74xfs37s84gt2sp80000gn/T/ipykernel_48213/3801108059.py:7: SettingWithCopyWarning: \n",
      "A value is trying to be set on a copy of a slice from a DataFrame.\n",
      "Try using .loc[row_indexer,col_indexer] = value instead\n",
      "\n",
      "See the caveats in the documentation: https://pandas.pydata.org/pandas-docs/stable/user_guide/indexing.html#returning-a-view-versus-a-copy\n",
      "  data_pd.loc[indx, column_name] = True\n",
      "/var/folders/db/xmky6pss74xfs37s84gt2sp80000gn/T/ipykernel_48213/3801108059.py:7: SettingWithCopyWarning: \n",
      "A value is trying to be set on a copy of a slice from a DataFrame.\n",
      "Try using .loc[row_indexer,col_indexer] = value instead\n",
      "\n",
      "See the caveats in the documentation: https://pandas.pydata.org/pandas-docs/stable/user_guide/indexing.html#returning-a-view-versus-a-copy\n",
      "  data_pd.loc[indx, column_name] = True\n",
      "/var/folders/db/xmky6pss74xfs37s84gt2sp80000gn/T/ipykernel_48213/3801108059.py:7: SettingWithCopyWarning: \n",
      "A value is trying to be set on a copy of a slice from a DataFrame.\n",
      "Try using .loc[row_indexer,col_indexer] = value instead\n",
      "\n",
      "See the caveats in the documentation: https://pandas.pydata.org/pandas-docs/stable/user_guide/indexing.html#returning-a-view-versus-a-copy\n",
      "  data_pd.loc[indx, column_name] = True\n"
     ]
    }
   ],
   "source": [
    "# make created_at column bool\n",
    "make_bool_col(tree_test_df, (tree_test_df['created_at'].str[-5:-3].astype(int) > 12), 'created_at')\n",
    "\n",
    "\n",
    "# make text column bool\n",
    "make_bool_col(tree_test_df, (tree_test_df['text'].str.contains('trump', case=True)), 'text') \n",
    "\n",
    "\n",
    "# make replies column bool\n",
    "make_bool_col(tree_test_df, (tree_test_df['replies'] > tree_test_df['replies'].median()), 'replies')\n",
    "\n",
    "\n",
    "# make retweet column bool\n",
    "make_bool_col(tree_test_df, (tree_test_df['retweets'] > tree_test_df['retweets'].median()), 'retweets')\n",
    "\n",
    "\n",
    "# make favorite column bool\n",
    "make_bool_col(tree_test_df, (tree_test_df['favorites'] > tree_test_df['favorites'].median()), 'favorites')\n",
    "\n",
    "\n",
    "# make user column bool\n",
    "indx = tree_test_df['user'].isin(['amyklobuchar', 'LindseyGrahamSC', 'lisamurkowski', 'maziehirono', 'McCaskillOffice', 'PattyMurray',\n",
    "        'SenatorBaldwin', 'SenatorCantwell', 'SenatorCollins', 'SenatorFischer', 'SenatorHassan', \n",
    "        'SenatorHeitkamp', 'SenatorShaheen', 'SenCapito', 'SenCortezMasto', 'SenDuckworth', 'SenFeinstein',\n",
    "        'SenGillibrand', 'SenJoniErnst', 'SenKamalaHarris', 'SenStabenow', 'SenWarren' ])\n",
    "\n",
    "make_bool_col(tree_test_df, indx, 'user')\n",
    "\n",
    "\n",
    "# make party column bool\n",
    "make_bool_col(tree_test_df, tree_test_df['party'] == 'D', 'party') \n",
    "\n",
    "# make state column bool\n",
    "# list of historically red states\n",
    "indx = tree_test_df['state'].isin(['ID','WA', 'WY','UT','ND','SD',\n",
    "                            'NE', 'IA','KS','OK','TX','AR',\n",
    "                            'MO', 'LA','MS','AL','FL','TN', \n",
    "                            'KY', 'IN','OH','WV','NC','SC', 'FL'])\n",
    "\n",
    "make_bool_col(tree_test_df, indx, 'state')\n",
    "\n",
    "# Split test data into the input variables and the target classes\n",
    "inputs_test = tree_test_df.loc[:, tree_train_df.columns != 'party'].to_numpy(dtype = np.float16)\n",
    "target_test = tree_test_df.loc[:, tree_train_df.columns == 'party'].to_numpy(dtype = np.float16)\n",
    "\n",
    "\n",
    "# test that split worked\n",
    "print(np.shape(inputs_test))\n",
    "print(np.shape(target_test)) "
   ]
  },
  {
   "cell_type": "markdown",
   "metadata": {},
   "source": [
    "### Making my Decision Tree\n",
    "***\n",
    "To make my decision tree, I need to pick the best parameters. To start with, I use a function called `kNN_tester` which finds and then graphs the testing and training accuracy scores of Decision Trees trained on my `tree_train_df` and tested on my `tree_test_df` but with different values for the ccp_alpha parameter (which controls the size of the tree). It looks like the highest accuracy value for both my training accuracy and testing accuracy is reached when the ccp_alpha is set to *0.001*. I would not have picked that number from a guess, because I would worry about overfitting, when the model is trained super well on the train data but cannot adapt to the test data, but since both accuracy scores are really high it seems like that is the best parameter for this model.\n",
    "\n",
    "I also created a function called `exclude_feature_tester` to see if removing any features would change the accuracy of my data, I was particularly checking for columns 0/2/3 (created_at, replies, and retweets) since they performed the worst in my column evaluations. None of these removals improve the model, although removing columns 0 and 1 (created_at and text) seems to have a null impact, which surprised me. I did not end up removing any columns, since the tree processes extremely quickly despite how many there are and they did not seem to have much of an impact. \n",
    "\n",
    "Once I am satisfied with my trees parameters, I made my decision tree with the chosen parameters and created a visualization of it. I then predicted my test values with the decision tree, just to double check, and got an accuracy of about 81%"
   ]
  },
  {
   "cell_type": "code",
   "execution_count": 25,
   "metadata": {},
   "outputs": [
    {
     "data": {
      "image/png": "[encoded data removed]",
      "text/plain": [
       "<Figure size 640x480 with 1 Axes>"
      ]
     },
     "metadata": {},
     "output_type": "display_data"
    },
    {
     "name": "stdout",
     "output_type": "stream",
     "text": [
      "[0.8053205304789265, 0.8041005863602377, 0.7989846916689622, 0.7989846916689622, 0.792215969462044, 0.792215969462044]\n"
     ]
    }
   ],
   "source": [
    "# calls my kNN_tester function to assess the accuracy of decision trees with different ccp_alphas\n",
    "lst = kNN_tester(inputs_train, target_train, inputs_test, target_test, [.001, .002, .005, .01, .05, .1])\n",
    "print(lst)"
   ]
  },
  {
   "cell_type": "code",
   "execution_count": 26,
   "metadata": {},
   "outputs": [
    {
     "data": {
      "image/png": "[encoded data removed]",
      "text/plain": [
       "<Figure size 640x480 with 1 Axes>"
      ]
     },
     "metadata": {},
     "output_type": "display_data"
    },
    {
     "name": "stdout",
     "output_type": "stream",
     "text": [
      "[0.8053205304789265, 0.8053205304789265, 0.7989846916689622, 0.8041005863602377, 0.8046908819015387, 0.7968596277202786, 0.6688835543662194]\n"
     ]
    }
   ],
   "source": [
    "# test if excluding any features would change the accuracy og my function\n",
    "lst = exclude_feature_tester(inputs_train, target_train, inputs_test, target_test, list(range(0,7)), 0.001)\n",
    "print(lst)"
   ]
  },
  {
   "cell_type": "code",
   "execution_count": 27,
   "metadata": {},
   "outputs": [
    {
     "data": {
      "text/html": [
       "<style>#sk-container-id-1 {color: black;background-color: white;}#sk-container-id-1 pre{padding: 0;}#sk-container-id-1 div.sk-toggleable {background-color: white;}#sk-container-id-1 label.sk-toggleable__label {cursor: pointer;display: block;width: 100%;margin-bottom: 0;padding: 0.3em;box-sizing: border-box;text-align: center;}#sk-container-id-1 label.sk-toggleable__label-arrow:before {content: \"▸\";float: left;margin-right: 0.25em;color: #696969;}#sk-container-id-1 label.sk-toggleable__label-arrow:hover:before {color: black;}#sk-container-id-1 div.sk-estimator:hover label.sk-toggleable__label-arrow:before {color: black;}#sk-container-id-1 div.sk-toggleable__content {max-height: 0;max-width: 0;overflow: hidden;text-align: left;background-color: #f0f8ff;}#sk-container-id-1 div.sk-toggleable__content pre {margin: 0.2em;color: black;border-radius: 0.25em;background-color: #f0f8ff;}#sk-container-id-1 input.sk-toggleable__control:checked~div.sk-toggleable__content {max-height: 200px;max-width: 100%;overflow: auto;}#sk-container-id-1 input.sk-toggleable__control:checked~label.sk-toggleable__label-arrow:before {content: \"▾\";}#sk-container-id-1 div.sk-estimator input.sk-toggleable__control:checked~label.sk-toggleable__label {background-color: #d4ebff;}#sk-container-id-1 div.sk-label input.sk-toggleable__control:checked~label.sk-toggleable__label {background-color: #d4ebff;}#sk-container-id-1 input.sk-hidden--visually {border: 0;clip: rect(1px 1px 1px 1px);clip: rect(1px, 1px, 1px, 1px);height: 1px;margin: -1px;overflow: hidden;padding: 0;position: absolute;width: 1px;}#sk-container-id-1 div.sk-estimator {font-family: monospace;background-color: #f0f8ff;border: 1px dotted black;border-radius: 0.25em;box-sizing: border-box;margin-bottom: 0.5em;}#sk-container-id-1 div.sk-estimator:hover {background-color: #d4ebff;}#sk-container-id-1 div.sk-parallel-item::after {content: \"\";width: 100%;border-bottom: 1px solid gray;flex-grow: 1;}#sk-container-id-1 div.sk-label:hover label.sk-toggleable__label {background-color: #d4ebff;}#sk-container-id-1 div.sk-serial::before {content: \"\";position: absolute;border-left: 1px solid gray;box-sizing: border-box;top: 0;bottom: 0;left: 50%;z-index: 0;}#sk-container-id-1 div.sk-serial {display: flex;flex-direction: column;align-items: center;background-color: white;padding-right: 0.2em;padding-left: 0.2em;position: relative;}#sk-container-id-1 div.sk-item {position: relative;z-index: 1;}#sk-container-id-1 div.sk-parallel {display: flex;align-items: stretch;justify-content: center;background-color: white;position: relative;}#sk-container-id-1 div.sk-item::before, #sk-container-id-1 div.sk-parallel-item::before {content: \"\";position: absolute;border-left: 1px solid gray;box-sizing: border-box;top: 0;bottom: 0;left: 50%;z-index: -1;}#sk-container-id-1 div.sk-parallel-item {display: flex;flex-direction: column;z-index: 1;position: relative;background-color: white;}#sk-container-id-1 div.sk-parallel-item:first-child::after {align-self: flex-end;width: 50%;}#sk-container-id-1 div.sk-parallel-item:last-child::after {align-self: flex-start;width: 50%;}#sk-container-id-1 div.sk-parallel-item:only-child::after {width: 0;}#sk-container-id-1 div.sk-dashed-wrapped {border: 1px dashed gray;margin: 0 0.4em 0.5em 0.4em;box-sizing: border-box;padding-bottom: 0.4em;background-color: white;}#sk-container-id-1 div.sk-label label {font-family: monospace;font-weight: bold;display: inline-block;line-height: 1.2em;}#sk-container-id-1 div.sk-label-container {text-align: center;}#sk-container-id-1 div.sk-container {/* jupyter's `normalize.less` sets `[hidden] { display: none; }` but bootstrap.min.css set `[hidden] { display: none !important; }` so we also need the `!important` here to be able to override the default hidden behavior on the sphinx rendered scikit-learn.org. See: https://github.com/scikit-learn/scikit-learn/issues/21755 */display: inline-block !important;position: relative;}#sk-container-id-1 div.sk-text-repr-fallback {display: none;}</style><div id=\"sk-container-id-1\" class=\"sk-top-container\"><div class=\"sk-text-repr-fallback\"><pre>DecisionTreeClassifier(ccp_alpha=0.001)</pre><b>In a Jupyter environment, please rerun this cell to show the HTML representation or trust the notebook. <br />On GitHub, the HTML representation is unable to render, please try loading this page with nbviewer.org.</b></div><div class=\"sk-container\" hidden><div class=\"sk-item\"><div class=\"sk-estimator sk-toggleable\"><input class=\"sk-toggleable__control sk-hidden--visually\" id=\"sk-estimator-id-1\" type=\"checkbox\" checked><label for=\"sk-estimator-id-1\" class=\"sk-toggleable__label sk-toggleable__label-arrow\">DecisionTreeClassifier</label><div class=\"sk-toggleable__content\"><pre>DecisionTreeClassifier(ccp_alpha=0.001)</pre></div></div></div></div></div>"
      ],
      "text/plain": [
       "DecisionTreeClassifier(ccp_alpha=0.001)"
      ]
     },
     "execution_count": 27,
     "metadata": {},
     "output_type": "execute_result"
    }
   ],
   "source": [
    "# makes my decision tree\n",
    "dt1  = DecisionTreeClassifier(ccp_alpha = .001)\n",
    "dt1.fit(inputs_train, target_train)"
   ]
  },
  {
   "cell_type": "code",
   "execution_count": 28,
   "metadata": {},
   "outputs": [
    {
     "data": {
      "image/png": "[encoded data removed]",
      "text/plain": [
       "<IPython.core.display.Image object>"
      ]
     },
     "execution_count": 28,
     "metadata": {},
     "output_type": "execute_result"
    }
   ],
   "source": [
    "# Visualization of the decision tree I made\n",
    "dot_data = StringIO()\n",
    "\n",
    "export_graphviz(dt1, out_file=dot_data, feature_names=var_names)\n",
    "(dt_vis, ) = graph_from_dot_data(dot_data.getvalue())\n",
    "\n",
    "Image(dt_vis.create_png())\n"
   ]
  },
  {
   "cell_type": "code",
   "execution_count": 29,
   "metadata": {},
   "outputs": [],
   "source": [
    "# predict for the test inputs using my decsion tree ???\n",
    "predicted = dt1.predict(inputs_test)"
   ]
  },
  {
   "cell_type": "code",
   "execution_count": 30,
   "metadata": {},
   "outputs": [
    {
     "name": "stderr",
     "output_type": "stream",
     "text": [
      "/var/folders/db/xmky6pss74xfs37s84gt2sp80000gn/T/ipykernel_48213/4051474881.py:4: SettingWithCopyWarning: \n",
      "A value is trying to be set on a copy of a slice from a DataFrame.\n",
      "Try using .loc[row_indexer,col_indexer] = value instead\n",
      "\n",
      "See the caveats in the documentation: https://pandas.pydata.org/pandas-docs/stable/user_guide/indexing.html#returning-a-view-versus-a-copy\n",
      "  tree_test_df.party = [bnry[item] for item in tree_test_df.party]\n"
     ]
    },
    {
     "data": {
      "text/plain": [
       "266695    0\n",
       "130713    1\n",
       "129819    1\n",
       "112860    1\n",
       "143264    0\n",
       "         ..\n",
       "158340    0\n",
       "193623    1\n",
       "125085    1\n",
       "195587    1\n",
       "219929    1\n",
       "Name: party, Length: 25411, dtype: int64"
      ]
     },
     "execution_count": 30,
     "metadata": {},
     "output_type": "execute_result"
    }
   ],
   "source": [
    "#https://stackoverflow.com/questions/51016230/how-to-change-values-in-a-column-into-binary\n",
    "\n",
    "bnry = {True: 1,False: 0}\n",
    "tree_test_df.party = [bnry[item] for item in tree_test_df.party]\n",
    "tree_test_df.party"
   ]
  },
  {
   "cell_type": "code",
   "execution_count": 31,
   "metadata": {},
   "outputs": [
    {
     "data": {
      "text/plain": [
       "0.8053205304789265"
      ]
     },
     "execution_count": 31,
     "metadata": {},
     "output_type": "execute_result"
    }
   ],
   "source": [
    "np.mean(predicted == tree_test_df.party)"
   ]
  },
  {
   "cell_type": "markdown",
   "metadata": {},
   "source": [
    "## Model 2: SVM\n",
    "***\n",
    "### Pre-processing my SVM Training Data \n",
    "***\n",
    "To make my tweet data work well for an SVM model, I have to make it numerical. To do this, I create a TfidfVectorizer, which turns my text data into a dictionary of vectorized words. TfidfVectorizer assigns each word in my tweets a numerical ID, and then counts how many times it appears. TfidfVectorizer also has parameters that I can set to filter unhelpful or distracting words out of my sample. I set it to do the following:\n",
    "* Remove unicode characters, which tend to not be encoded correctly and confuse text analyzers (for example, emojis)\n",
    "* Remove english stopwords, which are words that appear frequently but lack non grammatical meaning (for example, \"the)\n",
    "* Not count words that show up in less than .5% of my tweets\n",
    "  * This was computed using my `min_df_tester` function, which created svm models with different min_df's to see which filter parameters changed the score\n",
    "\n",
    "TfidfVectorizer also reduces weight of words that occur in too many documents, since they may be less helpful in comparison tasks like this one if they are just everywhere. I then build an analyzer so I can check that my filtering was successful enough, for example making sure there are no completely random characters. \n"
   ]
  },
  {
   "cell_type": "code",
   "execution_count": 46,
   "metadata": {},
   "outputs": [
    {
     "data": {
      "text/html": [
       "<style>#sk-container-id-3 {color: black;background-color: white;}#sk-container-id-3 pre{padding: 0;}#sk-container-id-3 div.sk-toggleable {background-color: white;}#sk-container-id-3 label.sk-toggleable__label {cursor: pointer;display: block;width: 100%;margin-bottom: 0;padding: 0.3em;box-sizing: border-box;text-align: center;}#sk-container-id-3 label.sk-toggleable__label-arrow:before {content: \"▸\";float: left;margin-right: 0.25em;color: #696969;}#sk-container-id-3 label.sk-toggleable__label-arrow:hover:before {color: black;}#sk-container-id-3 div.sk-estimator:hover label.sk-toggleable__label-arrow:before {color: black;}#sk-container-id-3 div.sk-toggleable__content {max-height: 0;max-width: 0;overflow: hidden;text-align: left;background-color: #f0f8ff;}#sk-container-id-3 div.sk-toggleable__content pre {margin: 0.2em;color: black;border-radius: 0.25em;background-color: #f0f8ff;}#sk-container-id-3 input.sk-toggleable__control:checked~div.sk-toggleable__content {max-height: 200px;max-width: 100%;overflow: auto;}#sk-container-id-3 input.sk-toggleable__control:checked~label.sk-toggleable__label-arrow:before {content: \"▾\";}#sk-container-id-3 div.sk-estimator input.sk-toggleable__control:checked~label.sk-toggleable__label {background-color: #d4ebff;}#sk-container-id-3 div.sk-label input.sk-toggleable__control:checked~label.sk-toggleable__label {background-color: #d4ebff;}#sk-container-id-3 input.sk-hidden--visually {border: 0;clip: rect(1px 1px 1px 1px);clip: rect(1px, 1px, 1px, 1px);height: 1px;margin: -1px;overflow: hidden;padding: 0;position: absolute;width: 1px;}#sk-container-id-3 div.sk-estimator {font-family: monospace;background-color: #f0f8ff;border: 1px dotted black;border-radius: 0.25em;box-sizing: border-box;margin-bottom: 0.5em;}#sk-container-id-3 div.sk-estimator:hover {background-color: #d4ebff;}#sk-container-id-3 div.sk-parallel-item::after {content: \"\";width: 100%;border-bottom: 1px solid gray;flex-grow: 1;}#sk-container-id-3 div.sk-label:hover label.sk-toggleable__label {background-color: #d4ebff;}#sk-container-id-3 div.sk-serial::before {content: \"\";position: absolute;border-left: 1px solid gray;box-sizing: border-box;top: 0;bottom: 0;left: 50%;z-index: 0;}#sk-container-id-3 div.sk-serial {display: flex;flex-direction: column;align-items: center;background-color: white;padding-right: 0.2em;padding-left: 0.2em;position: relative;}#sk-container-id-3 div.sk-item {position: relative;z-index: 1;}#sk-container-id-3 div.sk-parallel {display: flex;align-items: stretch;justify-content: center;background-color: white;position: relative;}#sk-container-id-3 div.sk-item::before, #sk-container-id-3 div.sk-parallel-item::before {content: \"\";position: absolute;border-left: 1px solid gray;box-sizing: border-box;top: 0;bottom: 0;left: 50%;z-index: -1;}#sk-container-id-3 div.sk-parallel-item {display: flex;flex-direction: column;z-index: 1;position: relative;background-color: white;}#sk-container-id-3 div.sk-parallel-item:first-child::after {align-self: flex-end;width: 50%;}#sk-container-id-3 div.sk-parallel-item:last-child::after {align-self: flex-start;width: 50%;}#sk-container-id-3 div.sk-parallel-item:only-child::after {width: 0;}#sk-container-id-3 div.sk-dashed-wrapped {border: 1px dashed gray;margin: 0 0.4em 0.5em 0.4em;box-sizing: border-box;padding-bottom: 0.4em;background-color: white;}#sk-container-id-3 div.sk-label label {font-family: monospace;font-weight: bold;display: inline-block;line-height: 1.2em;}#sk-container-id-3 div.sk-label-container {text-align: center;}#sk-container-id-3 div.sk-container {/* jupyter's `normalize.less` sets `[hidden] { display: none; }` but bootstrap.min.css set `[hidden] { display: none !important; }` so we also need the `!important` here to be able to override the default hidden behavior on the sphinx rendered scikit-learn.org. See: https://github.com/scikit-learn/scikit-learn/issues/21755 */display: inline-block !important;position: relative;}#sk-container-id-3 div.sk-text-repr-fallback {display: none;}</style><div id=\"sk-container-id-3\" class=\"sk-top-container\"><div class=\"sk-text-repr-fallback\"><pre>TfidfVectorizer(min_df=0.005, stop_words={&#x27;english&#x27;}, strip_accents=&#x27;unicode&#x27;)</pre><b>In a Jupyter environment, please rerun this cell to show the HTML representation or trust the notebook. <br />On GitHub, the HTML representation is unable to render, please try loading this page with nbviewer.org.</b></div><div class=\"sk-container\" hidden><div class=\"sk-item\"><div class=\"sk-estimator sk-toggleable\"><input class=\"sk-toggleable__control sk-hidden--visually\" id=\"sk-estimator-id-3\" type=\"checkbox\" checked><label for=\"sk-estimator-id-3\" class=\"sk-toggleable__label sk-toggleable__label-arrow\">TfidfVectorizer</label><div class=\"sk-toggleable__content\"><pre>TfidfVectorizer(min_df=0.005, stop_words={&#x27;english&#x27;}, strip_accents=&#x27;unicode&#x27;)</pre></div></div></div></div></div>"
      ],
      "text/plain": [
       "TfidfVectorizer(min_df=0.005, stop_words={'english'}, strip_accents='unicode')"
      ]
     },
     "execution_count": 46,
     "metadata": {},
     "output_type": "execute_result"
    }
   ],
   "source": [
    "# initializes TfidfVectorizer \n",
    "vect = TfidfVectorizer(strip_accents = \"unicode\", stop_words = {'english'}, min_df=0.005)  \n",
    "\n",
    "vect"
   ]
  },
  {
   "cell_type": "code",
   "execution_count": 44,
   "metadata": {},
   "outputs": [
    {
     "data": {
      "image/png": "[encoded data removed]",
      "text/plain": [
       "<Figure size 640x480 with 1 Axes>"
      ]
     },
     "metadata": {},
     "output_type": "display_data"
    },
    {
     "data": {
      "text/plain": [
       "[0.5158395970249104,\n",
       " 0.5158395970249104,\n",
       " 0.5158395970249104,\n",
       " 0.48416040297508955,\n",
       " 0.5158395970249104,\n",
       " 0.5158395970249104]"
      ]
     },
     "execution_count": 44,
     "metadata": {},
     "output_type": "execute_result"
    }
   ],
   "source": [
    "# find well performing min_df\n",
    "\n",
    "min_df_tester(svm_train_df, svm_test_df, 'text', 'party', [.00001, .0001, .0002, .0005, .001, .005], 'squared_error')"
   ]
  },
  {
   "cell_type": "code",
   "execution_count": 47,
   "metadata": {},
   "outputs": [
    {
     "name": "stdout",
     "output_type": "stream",
     "text": [
      "(228712, 434)\n"
     ]
    }
   ],
   "source": [
    "# fits (performs value calculation) and transforms (applies calculation to every data point) \n",
    "train_vect = vect.fit_transform(svm_train_df.text)\n",
    "\n",
    "# checks the shape\n",
    "print(train_vect.shape)"
   ]
  },
  {
   "cell_type": "markdown",
   "metadata": {},
   "source": [
    "Counts unique words and their occurrences across the texts (there were 228712 rows (texts), 9742 unique words)\n",
    "* Before I added the filter factors to my count_vec, there were 295789 unique words, so stuff is being filtered"
   ]
  },
  {
   "cell_type": "code",
   "execution_count": 48,
   "metadata": {},
   "outputs": [
    {
     "data": {
      "text/plain": [
       "array(['000', '10', '11', '1st', '30', 'about', 'aca', 'access', 'across',\n",
       "       'act', 'action', 'address', 'admin', 'administration',\n",
       "       'affordable', 'after', 'ag', 'again', 'against', 'ago', 'agree',\n",
       "       'all', 'also', 'always', 'am', 'amendment', 'america', 'american',\n",
       "       'americans', 'amp', 'an', 'and', 'another', 'any', 'ao', 'ao_',\n",
       "       'aon', 'are', 'around', 'as', 'at', 'award', 'back', 'be',\n",
       "       'because', 'been', 'before', 'being', 'best', 'better', 'big',\n",
       "       'bill', 'bipartisan', 'birthday', 'budget', 'business',\n",
       "       'businesses', 'but', 'by', 'call', 'can', 'care', 'celebrate',\n",
       "       'center', 'change', 'check', 'children', 'city', 'climate', 'co',\n",
       "       'colleagues', 'college', 'come', 'coming', 'committee',\n",
       "       'communities', 'community', 'congrats', 'congratulations',\n",
       "       'congress', 'continue', 'corybooker', 'costs', 'could', 'country',\n",
       "       'county', 'court', 'coverage', 'create', 'crisis', 'critical',\n",
       "       'ct', 'cut', 'cuts', 'day', 'dc', 'deal', 'debt', 'decision',\n",
       "       'defense', 'deserve', 'discuss', 'discussion', 'do', 'don', 'down',\n",
       "       'during', 'economic', 'economy', 'ed', 'education', 'efforts',\n",
       "       'end', 'energy', 'enjoyed', 'ensure', 'epa', 'et', 'every',\n",
       "       'everyone', 'families', 'family', 'federal', 'fight', 'fighting',\n",
       "       'find', 'first', 'floor', 'for', 'forward', 'free', 'friend',\n",
       "       'from', 'full', 'funding', 'future', 'get', 'give', 'glad', 'go',\n",
       "       'going', 'good', 'gop', 'gorsuch', 'gov', 'government', 'great',\n",
       "       'had', 'hall', 'happy', 'hard', 'has', 'have', 'he', 'health',\n",
       "       'healthcare', 'hear', 'hearing', 'help', 'helping', 'her', 'here',\n",
       "       'high', 'him', 'his', 'history', 'hold', 'home', 'honor',\n",
       "       'honored', 'hope', 'house', 'how', 'http', 'https', 'iao', 'icymi',\n",
       "       'if', 'importance', 'important', 'improve', 'in', 'info', 'inhofe',\n",
       "       'insurance', 'into', 'introduced', 'iran', 'is', 'issues', 'it',\n",
       "       'itao', 'its', 'job', 'jobs', 'joe', 'join', 'joined', 'joining',\n",
       "       'judge', 'just', 'justice', 'keep', 'kids', 'know', 'last', 'law',\n",
       "       'lead', 'leaders', 'leadership', 'learn', 'legislation', 'let',\n",
       "       'letter', 'life', 'like', 'listen', 'live', 'lives', 'll', 'local',\n",
       "       'long', 'look', 'looking', 'made', 'make', 'making', 'many',\n",
       "       'marcorubio', 'may', 'mcconnell', 'me', 'medicaid', 'meet',\n",
       "       'meeting', 'members', 'men', 'met', 'military', 'million',\n",
       "       'millions', 'more', 'morning', 'most', 'much', 'must', 'my',\n",
       "       'nation', 'national', 'need', 'needs', 'new', 'news', 'next',\n",
       "       'night', 'no', 'nominee', 'north', 'not', 'now', 'obama',\n",
       "       'obamacare', 'of', 'off', 'office', 'on', 'one', 'only', 'op',\n",
       "       'open', 'opioid', 'opportunity', 'or', 'other', 'our', 'out',\n",
       "       'over', 'part', 'pass', 'passed', 'pay', 'people', 'plan',\n",
       "       'pleased', 'policy', 'potus', 'power', 'prayers', 'pres',\n",
       "       'president', 'program', 'protect', 'proud', 'provide', 'public',\n",
       "       'put', 'questions', 're', 'read', 'ready', 'realdonaldtrump',\n",
       "       'reform', 'repeal', 'report', 'republicans', 'research', 'right',\n",
       "       'rights', 'rt', 'rule', 'rural', 'russia', 'safe', 'safety',\n",
       "       'says', 'school', 'scotus', 'secretary', 'security', 'see', 'sen',\n",
       "       'senate', 'senategop', 'senatemajldr', 'senator', 'senators',\n",
       "       'serve', 'service', 'should', 'show', 'small', 'so', 'some',\n",
       "       'speak', 'speaking', 'special', 'speech', 'spoke', 'staff',\n",
       "       'stand', 'state', 'statement', 'states', 'step', 'still', 'stop',\n",
       "       'story', 'strong', 'students', 'support', 'sure', 'system', 'take',\n",
       "       'talk', 'talking', 'tao_', 'tax', 'team', 'than', 'thank',\n",
       "       'thanks', 'that', 'the', 'their', 'them', 'there', 'these', 'they',\n",
       "       'this', 'those', 'thoughts', 'through', 'time', 'to', 'today',\n",
       "       'together', 'tomorrow', 'tonight', 'too', 'tour', 'town', 'trump',\n",
       "       'trumpcare', 'tune', 'under', 'up', 'us', 'use', 'utpol', 'va',\n",
       "       've', 'very', 'veterans', 'vets', 'via', 'victims', 'video',\n",
       "       'visit', 'visiting', 'vote', 'voted', 'want', 'was', 'washington',\n",
       "       'watch', 'water', 'way', 'we', 'week', 'welcome', 'well', 'were',\n",
       "       'what', 'when', 'where', 'which', 'while', 'who', 'why', 'will',\n",
       "       'with', 'women', 'work', 'workers', 'working', 'world', 'would',\n",
       "       'wv', 'year', 'years', 'yesterday', 'you', 'young', 'your'],\n",
       "      dtype=object)"
      ]
     },
     "execution_count": 48,
     "metadata": {},
     "output_type": "execute_result"
    }
   ],
   "source": [
    "# builds analyzer, which lets me handle preprocessing and tokenization for words that are > 2 char\n",
    "analyzer = vect.build_analyzer()\n",
    "\n",
    "# prints the words in the analyzer, so I can check that none of it looks crazy\n",
    "vect.get_feature_names_out()"
   ]
  },
  {
   "cell_type": "markdown",
   "metadata": {},
   "source": [
    "### Pre-processing my SVM Testing Data \n",
    "***\n",
    "In order to make my test data compatible with my model, I have to pre-process it the same way I did my svm train data. I transform my test data using the same TfidfVectorizer I created for the train data, to ensure it is being filtered by the same parameters. I do not fit the test data though, because the model is not supposed to be trained on it. \n"
   ]
  },
  {
   "cell_type": "code",
   "execution_count": 49,
   "metadata": {},
   "outputs": [
    {
     "name": "stdout",
     "output_type": "stream",
     "text": [
      "(25411, 434)\n"
     ]
    }
   ],
   "source": [
    "# adapt test data\n",
    "new_counts = vect.transform(svm_test_df.text)\n",
    "print(new_counts.shape) \n"
   ]
  },
  {
   "cell_type": "markdown",
   "metadata": {},
   "source": [
    "### Training my SVM classifier\n",
    "***\n",
    "Now that I have made my data numerical, I need to classify it. To do this\n",
    "\n",
    "cf, pr, tl = prj2.make_my_svm(svm_train_df, svm_test_df, 'text', 'party')"
   ]
  },
  {
   "cell_type": "code",
   "execution_count": 50,
   "metadata": {},
   "outputs": [],
   "source": [
    "def min_df_tester(trn_df, tst_df, inp, target, mindf_list, loss):\n",
    "     \n",
    "    test_list = []\n",
    "    \n",
    "    for mindf in mindf_list:\n",
    "        \n",
    "        cf, pred, tl = make_my_svm(trn_df, tst_df, inp, target, mindf, loss)\n",
    "        \n",
    "        test_list.append(accuracy_score(tst_df[target], pred))\n",
    "        \n",
    "    fig = plt.figure()\n",
    "    ax = plt.axes()\n",
    "    ax.plot(mindf_list, test_list)\n",
    "    \n",
    "    for i in range (len(mindf_list)):\n",
    "        plt.text(mindf_list[i], test_list[i], f'{mindf_list[i]}, {test_list[i]}')\n",
    "    plt.show()\n",
    "    \n",
    "    return(test_list)"
   ]
  },
  {
   "cell_type": "code",
   "execution_count": 58,
   "metadata": {},
   "outputs": [],
   "source": [
    "def loss_tester(trn_df, tst_df, inp, target, mindf, loss_list):\n",
    "     \n",
    "    test_list = []\n",
    "    \n",
    "    for loss in loss_list:\n",
    "        \n",
    "        cf, pred, tl = make_my_svm(trn_df, tst_df, inp, target, mindf, loss)\n",
    "        \n",
    "        test_list.append(accuracy_score(tst_df[target], pred))\n",
    "        \n",
    "    fig = plt.figure()\n",
    "    ax = plt.axes()\n",
    "    ax.plot(loss_list, test_list)\n",
    "    \n",
    "    for i in range (len(loss_list)):\n",
    "        plt.text(i, test_list[i], f'{i}, {test_list[i]}')\n",
    "    plt.show()\n",
    "    \n",
    "    return(test_list)\n",
    "    "
   ]
  },
  {
   "cell_type": "code",
   "execution_count": 61,
   "metadata": {},
   "outputs": [
    {
     "data": {
      "image/png": "[encoded data removed]",
      "text/plain": [
       "<Figure size 640x480 with 1 Axes>"
      ]
     },
     "metadata": {},
     "output_type": "display_data"
    },
    {
     "data": {
      "text/plain": [
       "[0.5158395970249104,\n",
       " 0.48416040297508955,\n",
       " 0.48416040297508955,\n",
       " 0.5158395970249104]"
      ]
     },
     "execution_count": 61,
     "metadata": {},
     "output_type": "execute_result"
    }
   ],
   "source": [
    "# find the best performing loss system for clustering algorithm\n",
    "\n",
    "loss_tester(svm_train_df, svm_test_df, 'text', 'party', .005, ['hinge', 'log_loss', 'squared_error', 'huber'])\n"
   ]
  },
  {
   "cell_type": "code",
   "execution_count": 66,
   "metadata": {},
   "outputs": [],
   "source": [
    "from sklearn.linear_model import SGDClassifier # SVM classifier\n",
    "\n",
    "classf = SGDClassifier(loss='hinge').fit(train_vect, svm_train_df.party) "
   ]
  },
  {
   "cell_type": "code",
   "execution_count": 67,
   "metadata": {},
   "outputs": [],
   "source": [
    "predicted = classf.predict(new_counts)"
   ]
  },
  {
   "cell_type": "code",
   "execution_count": 68,
   "metadata": {},
   "outputs": [
    {
     "name": "stdout",
     "output_type": "stream",
     "text": [
      "['R' 'D' 'D' ... 'D' 'R' 'D']\n"
     ]
    }
   ],
   "source": [
    "print(predicted)"
   ]
  },
  {
   "cell_type": "code",
   "execution_count": 69,
   "metadata": {},
   "outputs": [
    {
     "data": {
      "text/plain": [
       "0.6767541615835662"
      ]
     },
     "execution_count": 69,
     "metadata": {},
     "output_type": "execute_result"
    }
   ],
   "source": [
    "np.mean(predicted == svm_test_df.party)"
   ]
  },
  {
   "cell_type": "markdown",
   "metadata": {},
   "source": [
    "## Cross Validation\n",
    "***\n",
    "To compare the efficacy of my 2 models, I am using cross validation with the test data from the start of the project, to see which model will perform better when faced with new data. "
   ]
  },
  {
   "cell_type": "code",
   "execution_count": 74,
   "metadata": {},
   "outputs": [
    {
     "name": "stdout",
     "output_type": "stream",
     "text": [
      "0.67 accuracy with a standard deviation of 0.00 \n",
      "\n",
      "[0.66325728 0.66627312 0.67099567 0.66902794 0.67611177 0.66666667\n",
      " 0.67217631 0.67768595 0.67217631 0.66233766]\n"
     ]
    }
   ],
   "source": [
    "# calculate the cross validated scores, based on accuracy\n",
    "scores = cross_val_score(classf, new_counts, svm_test_df.party, cv = 10, scoring = 'accuracy')\n",
    "\n",
    "# print my scores\n",
    "print(\"%0.2f accuracy with a standard deviation of %0.2f \\n\" % (scores.mean(), scores.std()))\n",
    "\n",
    "print(scores)"
   ]
  },
  {
   "cell_type": "code",
   "execution_count": 76,
   "metadata": {},
   "outputs": [
    {
     "name": "stdout",
     "output_type": "stream",
     "text": [
      "0.81 accuracy with a standard deviation of 0.01 \n",
      "\n",
      "[0.78796223 0.81188508 0.80913026 0.80637544 0.8103109  0.80519481\n",
      " 0.80519481 0.80834317 0.7965368  0.81463991]\n"
     ]
    }
   ],
   "source": [
    "# calculate the cross validated scores, based on accuracy\n",
    "scores = cross_val_score(dt1, tree_test_df.loc[:,tree_test_df.columns!='party'], tree_test_df[\"party\"], cv = 10, scoring = 'accuracy')\n",
    "\n",
    "# print my scores\n",
    "print(\"%0.2f accuracy with a standard deviation of %0.2f \\n\" % (scores.mean(), scores.std()))\n",
    "\n",
    "print(scores) "
   ]
  },
  {
   "cell_type": "markdown",
   "metadata": {},
   "source": [
    "## Final Thoughts\n",
    "***\n",
    "The tree has a better accuracy in predictin than the SVM based on the cross validation performed here. The lowest performing tree had a better accuracy than the best SVM, which means that the tree model is way more successful for this task. "
   ]
  },
  {
   "cell_type": "code",
   "execution_count": null,
   "metadata": {},
   "outputs": [],
   "source": []
  }
 ],
 "metadata": {
  "kernelspec": {
   "display_name": "Python 3 (ipykernel)",
   "language": "python",
   "name": "python3"
  },
  "language_info": {
   "codemirror_mode": {
    "name": "ipython",
    "version": 3
   },
   "file_extension": ".py",
   "mimetype": "text/x-python",
   "name": "python",
   "nbconvert_exporter": "python",
   "pygments_lexer": "ipython3",
   "version": "3.10.4"
  }
 },
 "nbformat": 4,
 "nbformat_minor": 2
}
