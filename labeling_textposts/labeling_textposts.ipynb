{
 "cells": [
  {
   "cell_type": "markdown",
   "metadata": {},
   "source": [
    "# New Project\n",
    "\n",
    "***\n",
    "The goal of this project is to find a way to categorize text posts taken from the Smith Confessional and train an algorithm to do it in the future\n",
    " "
   ]
  },
  {
   "cell_type": "markdown",
   "metadata": {},
   "source": [
    "## Import block"
   ]
  },
  {
   "cell_type": "code",
   "execution_count": 3,
   "metadata": {},
   "outputs": [],
   "source": [
    "# Import block\n",
    "%matplotlib inline \n",
    "\n",
    "from proj3 import * \n",
    "\n",
    "\n",
    "from sklearn.metrics import accuracy_score\n",
    "from sklearn.feature_extraction.text import TfidfVectorizer #!\n",
    "from sklearn.neighbors import KNeighborsClassifier\n",
    "from scipy.spatial import distance\n",
    "import pytest\n",
    "import numpy as np\n",
    "import pandas as pd\n",
    "import matplotlib.pyplot as plt\n",
    "import seaborn as sns; sns.set()\n",
    "import random\n",
    "from scipy.spatial import distance\n",
    "from sklearn.cluster import KMeans"
   ]
  },
  {
   "cell_type": "markdown",
   "metadata": {},
   "source": [
    "## Data Pre-processing\n",
    "***\n",
    "I use the `Confesh_posts_master.csv` file to get the text data I will use for my analysis. I then convert the text into unicode strings, which is a standardized kind of encoding, so it can be processed by a function called `TfidfVectorizer`. \n",
    "\n",
    "The `TfidfVectorizer` function pre processes my data so that I can make sure I don't get any weird errors from unrecognized characters (like emojis) and that only important words are counted. In the parameters of this function, I set 'TfidfVectorizer' to remove white space and punctuation from the posts, remove English stopwords which are common but do not add any information to my analysis (like \"the\"), filter out words that have very few occurances (appear in less than .01% of the posts), and remove special characters that could confuse my later functions. \n",
    "\n",
    "Once the text data is fitered, `TfidfVectorizer` tokenizes (assigns numerical identifiers to) the words that made it through the filtering process  and counts how many times they occur. I used `TfidfVectorizer` in particular becayse it normalized and weights tokens that appear in most documents, so spam or filler words like \"lol\" will not be counted too much. \n",
    "\n",
    "I then build an analyzer so I could see what word tokens made it through the filter and adjust my filter parameters if necessary. "
   ]
  },
  {
   "cell_type": "code",
   "execution_count": 4,
   "metadata": {},
   "outputs": [],
   "source": [
    "# Import data\n",
    "students = pd.read_csv(\"Confesh_posts_master.csv\")"
   ]
  },
  {
   "cell_type": "code",
   "execution_count": 5,
   "metadata": {},
   "outputs": [
    {
     "name": "stdout",
     "output_type": "stream",
     "text": [
      "(4726, 3)\n"
     ]
    },
    {
     "data": {
      "text/html": [
       "<div>\n",
       "<style scoped>\n",
       "    .dataframe tbody tr th:only-of-type {\n",
       "        vertical-align: middle;\n",
       "    }\n",
       "\n",
       "    .dataframe tbody tr th {\n",
       "        vertical-align: top;\n",
       "    }\n",
       "\n",
       "    .dataframe thead th {\n",
       "        text-align: right;\n",
       "    }\n",
       "</style>\n",
       "<table border=\"1\" class=\"dataframe\">\n",
       "  <thead>\n",
       "    <tr style=\"text-align: right;\">\n",
       "      <th></th>\n",
       "      <th>Unnamed: 0</th>\n",
       "      <th>Post</th>\n",
       "      <th>Comments</th>\n",
       "    </tr>\n",
       "  </thead>\n",
       "  <tbody>\n",
       "    <tr>\n",
       "      <th>0</th>\n",
       "      <td>5744</td>\n",
       "      <td>Real confessional thread: post something you'r...</td>\n",
       "      <td>327</td>\n",
       "    </tr>\n",
       "    <tr>\n",
       "      <th>1</th>\n",
       "      <td>495</td>\n",
       "      <td>worst prof you've had at Smith?</td>\n",
       "      <td>176</td>\n",
       "    </tr>\n",
       "    <tr>\n",
       "      <th>2</th>\n",
       "      <td>2271</td>\n",
       "      <td>anyone else still sleep with stuffed animals? ...</td>\n",
       "      <td>97</td>\n",
       "    </tr>\n",
       "    <tr>\n",
       "      <th>3</th>\n",
       "      <td>2272</td>\n",
       "      <td>kathys speech wtf</td>\n",
       "      <td>95</td>\n",
       "    </tr>\n",
       "    <tr>\n",
       "      <th>4</th>\n",
       "      <td>2122</td>\n",
       "      <td>finding out some smithies just don’t vote is s...</td>\n",
       "      <td>87</td>\n",
       "    </tr>\n",
       "  </tbody>\n",
       "</table>\n",
       "</div>"
      ],
      "text/plain": [
       "   Unnamed: 0                                               Post  Comments\n",
       "0        5744  Real confessional thread: post something you'r...       327\n",
       "1         495                    worst prof you've had at Smith?       176\n",
       "2        2271  anyone else still sleep with stuffed animals? ...        97\n",
       "3        2272                                 kathys speech wtf         95\n",
       "4        2122  finding out some smithies just don’t vote is s...        87"
      ]
     },
     "execution_count": 5,
     "metadata": {},
     "output_type": "execute_result"
    }
   ],
   "source": [
    "# Check data\n",
    "print(students.shape)\n",
    "students.head()"
   ]
  },
  {
   "cell_type": "code",
   "execution_count": 6,
   "metadata": {},
   "outputs": [
    {
     "data": {
      "text/plain": [
       "array([\"Real confessional thread: post something you're scared to say out loud.\",\n",
       "       \"worst prof you've had at Smith?\",\n",
       "       'anyone else still sleep with stuffed animals? and what kind of animal :)',\n",
       "       ..., 'whats ur enneagram tritype and mbti type? ',\n",
       "       'is anyone selling pre-rolls?? desperately in need if a joint rn (throwaway: smiththrowaway3456@gmail.com)',\n",
       "       'anyone looking for tickets to New York? I have tickets leaving the 11/23 for 11:15am from Springfield Station (Frank B Murray Street) hit me up: throwaway220922@gmail.com'],\n",
       "      dtype='<U1000')"
      ]
     },
     "execution_count": 6,
     "metadata": {},
     "output_type": "execute_result"
    }
   ],
   "source": [
    "# figured out from here https://stackoverflow.com/questions/39303912/tfidfvectorizer-in-scikit-learn-valueerror-np-nan-is-an-invalid-document\n",
    "# convert posts into unicode so TfidfVectorizer can actually process them\n",
    "text = students['Post'].values.astype('U')  \n",
    "text"
   ]
  },
  {
   "cell_type": "code",
   "execution_count": 9,
   "metadata": {},
   "outputs": [],
   "source": [
    "# initializes TfidfVectorizer, which will make a dictionary of vectorized words\n",
    "vect = TfidfVectorizer(strip_accents = \"unicode\", stop_words = {'english'}, min_df=0.0001)  \n",
    "\n",
    "# fits (performs value calculation) and transforms (applies calculation to every data point) \n",
    "train_vect = vect.fit_transform(text)"
   ]
  },
  {
   "cell_type": "code",
   "execution_count": 26,
   "metadata": {},
   "outputs": [
    {
     "data": {
      "text/plain": [
       "(4726, 8791)"
      ]
     },
     "execution_count": 26,
     "metadata": {},
     "output_type": "execute_result"
    }
   ],
   "source": [
    "# check data, 4726 sampled and 8791 features\n",
    "np.shape(train_vect)"
   ]
  },
  {
   "cell_type": "code",
   "execution_count": 27,
   "metadata": {},
   "outputs": [
    {
     "data": {
      "text/plain": [
       "array(['00', '05', '0l', ..., 'وانت', '初音ミク', '我是一个傻瓜'], dtype=object)"
      ]
     },
     "execution_count": 27,
     "metadata": {},
     "output_type": "execute_result"
    }
   ],
   "source": [
    "# builds analyzer, which tokenizes the words in the numpy matrix that are > 2 char\n",
    "analyzer = vect.build_analyzer()\n",
    "\n",
    "# prints the words in the analyzer, so I can check that none of it looks crazy\n",
    "vect.get_feature_names_out()"
   ]
  },
  {
   "cell_type": "markdown",
   "metadata": {},
   "source": [
    "## Unsupervised ML: Finding my k value\n",
    "***\n",
    "\n",
    "Now that I have my text data in a numerical form (the counts), I want to use the elbow method to find the best number of clusters for it. The elbow method involves creating k-means clusters with a variety of centers (which I pass in as a list), computing the sum of squares for each iteration, and graphing them. \n",
    "\n",
    "From the graph, I identify the \"elbow\", or the point at which the slope of the line starts decreasing in a linear fashion. This is the best number of clusters for my data. Based on elbowology, my k should be 9, which means that I will ask my k-means model to cluster my text data into 9 groups. "
   ]
  },
  {
   "cell_type": "code",
   "execution_count": 28,
   "metadata": {},
   "outputs": [
    {
     "data": {
      "image/png": "[encoded data removed]",
      "text/plain": [
       "<Figure size 640x480 with 1 Axes>"
      ]
     },
     "metadata": {},
     "output_type": "display_data"
    },
    {
     "data": {
      "text/plain": [
       "[9964.68540183828,\n",
       " 9933.744852578931,\n",
       " 9909.758548418165,\n",
       " 9886.230353794635,\n",
       " 9869.758236412974,\n",
       " 9864.45568750497,\n",
       " 9852.474626395082,\n",
       " 9838.608345514553,\n",
       " 9836.240973599743,\n",
       " 9844.683662472406,\n",
       " 9839.234323052442]"
      ]
     },
     "execution_count": 28,
     "metadata": {},
     "output_type": "execute_result"
    }
   ],
   "source": [
    "# I run my tokenized posts in k-means models with 1, 2, 3, ..., 11, and 12 centers.\n",
    "# based on this graph, the hinge is at 9 centers\n",
    "\n",
    "lst = looping_kmeans(train_vect.A, list(range(1,12)))\n",
    "lst"
   ]
  },
  {
   "cell_type": "markdown",
   "metadata": {},
   "source": [
    "## Unsupervised ML: Running k-Means \n",
    "***\n",
    "\n",
    "Now that I know how many clusters I want, I can use k-Means to label my posts based on which of the 9 centroids (middle points of the clusters, generated by the computer) they are most similar to. \n",
    "\n",
    "I save the posts with their corresponding labels as their own file `labeled_masters_9.csv` to make it easy to look at them later"
   ]
  },
  {
   "cell_type": "code",
   "execution_count": 29,
   "metadata": {},
   "outputs": [],
   "source": [
    "fit1 = run_kmeans_sklearn(train_vect.A, 2) "
   ]
  },
  {
   "cell_type": "code",
   "execution_count": 30,
   "metadata": {},
   "outputs": [
    {
     "name": "stdout",
     "output_type": "stream",
     "text": [
      "Labels\n",
      " [1 0 0 ... 0 0 0]\n",
      "Labels\n",
      " (4726,)\n",
      "Labels\n",
      " [0 1]\n",
      "\n",
      " Cluster Centers \n",
      " [[ 1.48403041e-04  1.35525272e-19  1.38490816e-04 ...  1.30181215e-04\n",
      "   3.18877551e-04  2.34561414e-04]\n",
      " [ 4.60386131e-04  1.25117460e-04  8.13151629e-20 ... -4.06575815e-20\n",
      "   2.16840434e-19 -1.89735380e-19]]\n",
      "\n",
      " Cluster Centers \n",
      " (2, 8791)\n"
     ]
    }
   ],
   "source": [
    "# checks for myself that the correct labels were created and taking a peak and the cluster centers \n",
    "\n",
    "print(\"Labels\\n\", fit1.labels_)\n",
    "print(\"Labels\\n\", np.shape(fit1.labels_))\n",
    "print(\"Labels\\n\", np.unique(fit1.labels_))\n",
    "\n",
    "print(\"\\n Cluster Centers \\n\",fit1.cluster_centers_)\n",
    "print(\"\\n Cluster Centers \\n\",np.shape(fit1.cluster_centers_))"
   ]
  },
  {
   "cell_type": "code",
   "execution_count": 106,
   "metadata": {},
   "outputs": [],
   "source": [
    "# Saving my data with labels as its own csv so I can look at it later\n",
    "\n",
    "students[\"Labels (9)\"] = fit1.labels_\n",
    "pd.DataFrame(students, columns = ['Post','Comments','Labels (9)', 'Hand Labels']).to_csv('labeled_masters_9.csv', mode='w', index=False, header=True)\n"
   ]
  },
  {
   "cell_type": "markdown",
   "metadata": {},
   "source": [
    "## Pull 10 Samples out of each cluster to understand the trends\n",
    "***\n",
    "I then randomly sample 10 posts from all the posts with each label in order to try and understand what trends k-Means is clustering based on. \n",
    "\n",
    "I label each sample with how I would describe the category. They are roughly:\n",
    "1. Seems to be random comments and complaints about Smith as a place and other miscellaneous personal opinons\n",
    "2. Seems to be posts about specific people on Smith campus\n",
    "3. Seems to be about \"people\" in general at smith and giving advice/offering personal opnions on what people should and shoudln't do\n",
    "4. Seems to be asking questions about community organization here creating groups, pattern is \"does\"\n",
    "5. People sharing vents and asking for help with interpersonal conflict, also asking about community norms\n",
    "6. The pattern seems to be the presence of \"anyone\", but the questions tend to be general asks about functional things (sales, classes, missing items)\n",
    "7. The pattern seems to be the presence of \"what\", byt they seem to be undirected questions meant to create engagment rather than reach a specific point\n",
    "8. This seems to be complaining, with an emphasis on relationships, hygeine, and stress and personal situations\n",
    "9. Tthis seems to be vents and aimed at getting specific advice or help for the poster, or general polls"
   ]
  },
  {
   "cell_type": "code",
   "execution_count": 35,
   "metadata": {},
   "outputs": [
    {
     "name": "stdout",
     "output_type": "stream",
     "text": [
      "700            anyone know whats going  on at gardiner?? \n",
      "269                    i wanna make out w someone tonight\n",
      "2982                    i wish casey bohlen was my father\n",
      "402     so touched starved rn its insane, just wish i ...\n",
      "4155    smith pay me back for the teletherapy im missi...\n",
      "1504    vm is a bitch to student workers, why tf are y...\n",
      "1042                                    ob is so annoying\n",
      "4261                        whos selling edibles tonight \n",
      "2101                    can campo drive me home at night?\n",
      "379     anyone else just rly sad about how no one care...\n",
      "Name: Post, dtype: object\n"
     ]
    }
   ],
   "source": [
    "# Seems to be random comments and complaints about Smith as a place, also random drop box\n",
    "take_samp(students['Post'], fit1, 0)"
   ]
  },
  {
   "cell_type": "code",
   "execution_count": 75,
   "metadata": {},
   "outputs": [
    {
     "name": "stdout",
     "output_type": "stream",
     "text": [
      "3098    who is the bitch on second floor scales that w...\n",
      "1688          Shout out to the cute girl in my gov class \n",
      "2636    anyone know when the tickets for the 3rd show ...\n",
      "2078    what was that noise in the quad and why did it...\n",
      "1808           will cone insense set off the fire alarms?\n",
      "622     jane stangl is the worlds most insufferable cu...\n",
      "1532           to the provost in measure for measure- ily\n",
      "3839    why doesn't smith advertise the mellon mays fe...\n",
      "1995    cant away to move away from all the nasty bitc...\n",
      "4678                             the fucking service here\n",
      "Name: Post, dtype: object\n"
     ]
    }
   ],
   "source": [
    "# seems to be about specific people \n",
    "take_samp(students['Post'], fit1, 1)"
   ]
  },
  {
   "cell_type": "code",
   "execution_count": 76,
   "metadata": {},
   "outputs": [
    {
     "name": "stdout",
     "output_type": "stream",
     "text": [
      "1774    ppl on here talking about what grades are good...\n",
      "3722    i have no idea what the weekend dining hours a...\n",
      "1146    when people are getting worked up over stupid ...\n",
      "2853    don’t me become cutter hp EVER bc im gonna bul...\n",
      "4712    trick or treat tracker! which houses are out o...\n",
      "3511                         when are courses coming out?\n",
      "2346                 i think lady and  tramp are lesbians\n",
      "1327    i have a question that im too afraid to ask in...\n",
      "636     the people still screaming about masking are s...\n",
      "1154    tips for better head-from the girlies who wann...\n",
      "Name: Post, dtype: object\n"
     ]
    }
   ],
   "source": [
    "# seems to be about \"people\" in general at smith and giving advice/personal opnions\n",
    "take_samp(students['Post'], fit1,  2)"
   ]
  },
  {
   "cell_type": "code",
   "execution_count": 77,
   "metadata": {},
   "outputs": [
    {
     "name": "stdout",
     "output_type": "stream",
     "text": [
      "2619    PLEASE why does IDP HAVE SO MUCH WORK ITS ONE ...\n",
      "4076        does dawes have scrambled or fried eggs today\n",
      "3001    where does the compass cafe get their food? i ...\n",
      "2305    Does anyone have a spare ticket to our dear de...\n",
      "1027      why does the neilson elevator talk? \"Going up!'\n",
      "3217    does wilson have a group chat. a house discord...\n",
      "1427    so what happened to parsons house does it stil...\n",
      "2881    does anyone do black friday shopping in oerson...\n",
      "1470    does anyone wanna buy 2 oso oso tickets for no...\n",
      "4075    does anyone need someone to watch plants over ...\n",
      "Name: Post, dtype: object\n"
     ]
    }
   ],
   "source": [
    "# asking questions about community organization here creating groups, pattern is \"does\"\n",
    "take_samp(students['Post'], fit1,  3)"
   ]
  },
  {
   "cell_type": "code",
   "execution_count": 78,
   "metadata": {},
   "outputs": [
    {
     "name": "stdout",
     "output_type": "stream",
     "text": [
      "4039    i lost my fast charging iphone charger and im ...\n",
      "1991    anyone else feel like theyre gonna combust eve...\n",
      "138     first romantic entanglement with a neurotypica...\n",
      "140     antisemitism is bad and the school and our com...\n",
      "58      i need some advice on a roommate conflict. so ...\n",
      "547     nothing screams ‘touch grass’ more than foreig...\n",
      "3872    i was so worried about getting played that i t...\n",
      "1222    when u finish a particularly excellent and imm...\n",
      "148     whoever stole my yoga mat from cushem dining h...\n",
      "2626    please someone has a crush on me. im feeling s...\n",
      "Name: Post, dtype: object\n"
     ]
    }
   ],
   "source": [
    "# people sharing vents and asking for help with interpersonal conflict and asking peoplee en masse about community norms\n",
    "take_samp(students['Post'], fit1,  4)"
   ]
  },
  {
   "cell_type": "code",
   "execution_count": 79,
   "metadata": {},
   "outputs": [
    {
     "name": "stdout",
     "output_type": "stream",
     "text": [
      "841                           anyone willing to sell alc?\n",
      "3509    anyone know where to meet abarca for office ho...\n",
      "2714              has anyone seen missinf black car keys😭\n",
      "1179    anyone wanna buy burgundy canvas docs for $30?...\n",
      "2641    has anyone had pia furkan for a soc class if s...\n",
      "4550    could anyone please do a NETA run this Wednesd...\n",
      "2061    Has anyone found an apple pencil (gen1) at nei...\n",
      "4452      anyone selling weed? @smiththrownaway@gmail.com\n",
      "2512         anyone here going to anime nyc this weekend?\n",
      "3324                   is anyone going to cognitive psych\n",
      "Name: Post, dtype: object\n"
     ]
    }
   ],
   "source": [
    "# The pattern seems to be the presence of \"anyone\", but the questions tend to be general asks about functional things (sales, classes, missing items)\n",
    "take_samp(students['Post'], fit1,  5)"
   ]
  },
  {
   "cell_type": "code",
   "execution_count": 80,
   "metadata": {},
   "outputs": [
    {
     "name": "stdout",
     "output_type": "stream",
     "text": [
      "7                           whats ur ultimate sex fantasy\n",
      "17              whats your best friend's major and yours?\n",
      "23                                 whats ur major and gpa\n",
      "47      whats happening with fetish this year? i feel ...\n",
      "90                            whats ur fav number and why\n",
      "                              ...                        \n",
      "4629                                 whats ur fav snack? \n",
      "4630                                 whats the cheering? \n",
      "4643    whats ur fav dessert? i like the ispahan from ...\n",
      "4676                           whats going on in gardiner\n",
      "4723           whats ur enneagram tritype and mbti type? \n",
      "Name: Post, Length: 80, dtype: object\n"
     ]
    }
   ],
   "source": [
    "# The pattern seems to be the presence of \"what\", byt they seem to be undirected questions meant to create engagment rather than reach a specific point\n",
    "take_samp(students['Post'], fit1,  6)"
   ]
  },
  {
   "cell_type": "code",
   "execution_count": 86,
   "metadata": {},
   "outputs": [
    {
     "name": "stdout",
     "output_type": "stream",
     "text": [
      "689     how do i tell if someone is trying to fuck me ...\n",
      "3099    i might be depressed, stressed, and underdress...\n",
      "2177      lol how do u know if someone restricted u on fb\n",
      "924     on GOD can people please wear deodorant if the...\n",
      "2953    what do u do/say if u found a guy cute in a pa...\n",
      "692                               do u recommend soc 101 \n",
      "1992    what do you think your most listened to song o...\n",
      "1797    as a politician your career rests on how much ...\n",
      "1612     i like them but they dont like me.. wtf do i do \n",
      "2583    how does bedding/ having pillows work if you s...\n",
      "Name: Post, dtype: object\n"
     ]
    }
   ],
   "source": [
    "# this seems to be complaining, with an emphasis on relationships, hygeine, and stress and a general audience\n",
    "take_samp(students['Post'], fit1,  7)"
   ]
  },
  {
   "cell_type": "code",
   "execution_count": 88,
   "metadata": {},
   "outputs": [
    {
     "name": "stdout",
     "output_type": "stream",
     "text": [
      "258     i think we should write a petition to fire bio...\n",
      "3821    I need a concert buddy who wants to go to almo...\n",
      "1190    if youre eating in a dining hall, you can look...\n",
      "2576    wowzer bowzer passed away for real yesterday. ...\n",
      "75      stupid bitches make me wanna kms. on god ya’ll...\n",
      "3891    anyone know if theres a certain limit to how m...\n",
      "2803    i dont think im fit to live in (modern day) so...\n",
      "1079    i need to hold a cat immediately who is willin...\n",
      "1353    best of luck to yall, but you will NEVER see m...\n",
      "340     how do people usually get to the amtrak statio...\n",
      "Name: Post, dtype: object\n"
     ]
    }
   ],
   "source": [
    "# this seems to be vents and aimed at getting specific advice or help for the poster, or general polls\n",
    "take_samp(students['Post'], fit1,  8)"
   ]
  },
  {
   "cell_type": "markdown",
   "metadata": {},
   "source": [
    "## Supervised Learning: kNN clustering\n",
    "***\n",
    "I then use the category explanations to manually check and adjust the labels of 50 points based on my interpretation of the content in the `Hand Labels` category.\n",
    "I then used the k-means labeled data to figure out parameters for my kNN model, by training my kNN on `Labels (06)` and checking prediction accuracy scores (which were overally not great). The best neighbor number seemed to be 3. \n",
    "I then created a kNN model trained on the `Hand Labels` category to roughly predict my own classifications. "
   ]
  },
  {
   "cell_type": "code",
   "execution_count": 7,
   "metadata": {},
   "outputs": [
    {
     "data": {
      "text/plain": [
       "0     6.0\n",
       "1     8.0\n",
       "2     6.0\n",
       "3     0.0\n",
       "4     0.0\n",
       "5     0.0\n",
       "6     2.0\n",
       "7     6.0\n",
       "8     4.0\n",
       "9     0.0\n",
       "10    2.0\n",
       "11    6.0\n",
       "12    4.0\n",
       "13    6.0\n",
       "14    6.0\n",
       "15    0.0\n",
       "16    2.0\n",
       "17    6.0\n",
       "18    0.0\n",
       "19    0.0\n",
       "20    1.0\n",
       "21    8.0\n",
       "22    6.0\n",
       "23    6.0\n",
       "24    6.0\n",
       "25    4.0\n",
       "26    5.0\n",
       "27    0.0\n",
       "28    2.0\n",
       "29    8.0\n",
       "30    8.0\n",
       "31    3.0\n",
       "32    4.0\n",
       "33    1.0\n",
       "34    4.0\n",
       "35    0.0\n",
       "36    4.0\n",
       "37    2.0\n",
       "38    6.0\n",
       "39    4.0\n",
       "40    6.0\n",
       "41    8.0\n",
       "42    8.0\n",
       "43    4.0\n",
       "44    6.0\n",
       "45    8.0\n",
       "46    1.0\n",
       "47    0.0\n",
       "48    5.0\n",
       "49    0.0\n",
       "Name: Hand Labels, dtype: float64"
      ]
     },
     "execution_count": 7,
     "metadata": {},
     "output_type": "execute_result"
    }
   ],
   "source": [
    "# show manually labeled points\n",
    "labeled_students = pd.read_csv(\"labeled_masters_9.csv\")\n",
    "labeled_students[\"Hand Labels\"][0:50]"
   ]
  },
  {
   "cell_type": "code",
   "execution_count": 191,
   "metadata": {},
   "outputs": [
    {
     "data": {
      "text/plain": [
       "(50, 8791)"
      ]
     },
     "execution_count": 191,
     "metadata": {},
     "output_type": "execute_result"
    }
   ],
   "source": [
    "# take first 50 samples to train on\n",
    "np.shape(train_vect.A[0:50, :]) "
   ]
  },
  {
   "cell_type": "code",
   "execution_count": 126,
   "metadata": {},
   "outputs": [
    {
     "data": {
      "text/plain": [
       "(50,)"
      ]
     },
     "execution_count": 126,
     "metadata": {},
     "output_type": "execute_result"
    }
   ],
   "source": [
    "# take labeled points\n",
    "np.shape(labeled_students[\"Hand Labels\"][0:50])"
   ]
  },
  {
   "cell_type": "code",
   "execution_count": 38,
   "metadata": {},
   "outputs": [
    {
     "data": {
      "image/png": "[encoded data removed]",
      "text/plain": [
       "<Figure size 640x480 with 1 Axes>"
      ]
     },
     "metadata": {},
     "output_type": "display_data"
    },
    {
     "data": {
      "text/plain": [
       "[0.3058169375534645,\n",
       " 0.3272027373823781,\n",
       " 0.33532934131736525,\n",
       " 0.3323353293413174,\n",
       " 0.32677502138579984,\n",
       " 0.3169375534644996,\n",
       " 0.31736526946107785,\n",
       " 0.3058169375534645,\n",
       " 0.29020530367835756]"
      ]
     },
     "execution_count": 38,
     "metadata": {},
     "output_type": "execute_result"
    }
   ],
   "source": [
    "# find the best neighbors value \n",
    "kNN_tester(train_vect.A[0:50,:], labeled_students[\"Labels (9)\"][0:50], train_vect.A[50:,:], labeled_students[\"Labels (9)\"][50:], list(range(1,10)))\n",
    "\n",
    "\n"
   ]
  },
  {
   "cell_type": "code",
   "execution_count": 10,
   "metadata": {},
   "outputs": [],
   "source": [
    "# makes knn with 3 neighbors\n",
    "knn3 = run_knn_sklearn(train_vect.A[0:50,:], labeled_students[\"Hand Labels\"][0:50], 3)\n",
    "\n"
   ]
  },
  {
   "cell_type": "code",
   "execution_count": 295,
   "metadata": {},
   "outputs": [
    {
     "data": {
      "text/plain": [
       "0.62"
      ]
     },
     "execution_count": 295,
     "metadata": {},
     "output_type": "execute_result"
    }
   ],
   "source": [
    "# see how it does at predicting my train data\n",
    "pred = knn3.predict(train_vect.A[0:50,:]) \n",
    "\n",
    "accuracy_score(labeled_students[\"Hand Labels\"][0:50],pred)"
   ]
  },
  {
   "cell_type": "code",
   "execution_count": 261,
   "metadata": {},
   "outputs": [
    {
     "data": {
      "text/plain": [
       "array([2., 2., 4., ..., 6., 1., 0.])"
      ]
     },
     "execution_count": 261,
     "metadata": {},
     "output_type": "execute_result"
    }
   ],
   "source": [
    "# predict how I will label the rest of the hand curated points\n",
    "pred = knn3.predict(train_vect.A[50:,:])\n",
    "pred"
   ]
  },
  {
   "cell_type": "code",
   "execution_count": 264,
   "metadata": {},
   "outputs": [
    {
     "name": "stdout",
     "output_type": "stream",
     "text": [
      "0.5\n",
      "0.29426860564585117\n"
     ]
    }
   ],
   "source": [
    "# compare my hand curated labels and the k-means labels\n",
    "print(accuracy_score(labeled_students[\"Labels (9)\"][0:50],labeled_students[\"Hand Labels\"][0:50]))\n",
    "\n",
    "# compare my (predicted) hand curated labels and the k-means labels\n",
    "print(accuracy_score(labeled_students[\"Labels (9)\"][50:],pred))"
   ]
  },
  {
   "cell_type": "code",
   "execution_count": null,
   "metadata": {},
   "outputs": [],
   "source": [
    "labeled_students[\"Hand Labels\"] = labeled_students[\"Hand Labels\"][0:50].append(pred)"
   ]
  },
  {
   "cell_type": "markdown",
   "metadata": {},
   "source": [
    "## Final Thoughts\n",
    "***\n",
    "The accuracy of my kNN left something to be desired, but given how subjective the data was, how large the tokenized matrix was, and how small the train set was since it takes a long time to hand label, it wasn't too bad. \n",
    "\n",
    "This project was an interesting way to compare the roles of supervised and unsupervised models and implement a variety of machine learning algorithms in python and assess their efficacy"
   ]
  },
  {
   "cell_type": "code",
   "execution_count": null,
   "metadata": {},
   "outputs": [],
   "source": [
    "\n",
    "def test_run_knn_sklearn_type():\n",
    "    assert isinstance(proj3.run_knn_sklearn(justtwo_np[0:50],\n",
    "          students[\"Hand Labels\"], 2), KNeighborsClassifier)\n",
    "\n",
    "def test_take_samp_size():\n",
    "    expected = 10\n",
    "    fit1 = proj3.run_kmeans_sklearn(justtwo_np, 2)\n",
    "    assert proj3.take_samp(justtwo_np[\"Labels (9)\"],fit1, 1) == expected\n",
    "\n",
    "def test_kNN_tester_size():\n",
    "    expected = 3\n",
    "    assert len(proj3.kNN_tester(justtwo_np[\"Comments\"][0:50], justtwo_np[\"Labels (9)\"][:, 0:50], justtwo_np[\"Comments\"][:, 0:50], justtwo_np[\"Labels (9)\"][0:50], [1, 2, 3])) == expected\n",
    "\n",
    "def test_looping_kmeans_size():\n",
    "    expected = 1\n",
    "    assert len(proj3.looping_kmeans(justtwo_np,\n",
    "        list(range(1,2)))) == expected\n",
    " \n",
    "\n"
   ]
  },
  {
   "cell_type": "code",
   "execution_count": 12,
   "metadata": {},
   "outputs": [],
   "source": [
    "students = pd.read_csv(\"labeled_masters_9.csv\")\n",
    "justtwo_np = students[[\"Labels (9)\",\"Comments\"]].to_numpy()"
   ]
  },
  {
   "cell_type": "code",
   "execution_count": 14,
   "metadata": {},
   "outputs": [],
   "source": [
    "h =run_knn_sklearn(justtwo_np[0:50], students[\"Hand Labels\"][0:50], 2)"
   ]
  },
  {
   "cell_type": "code",
   "execution_count": 31,
   "metadata": {},
   "outputs": [
    {
     "name": "stdout",
     "output_type": "stream",
     "text": [
      "92     0\n",
      "71     0\n",
      "179    0\n",
      "172    0\n",
      "164    4\n",
      "87     0\n",
      "109    1\n",
      "131    4\n",
      "101    0\n",
      "0      8\n",
      "Name: Labels (9), dtype: int64\n"
     ]
    },
    {
     "data": {
      "text/plain": [
       "NoneType"
      ]
     },
     "execution_count": 31,
     "metadata": {},
     "output_type": "execute_result"
    }
   ],
   "source": [
    "fit2 = run_kmeans_sklearn(justtwo_np, 2)\n",
    "type(take_samp(students[\"Labels (9)\"],fit2, 1))"
   ]
  },
  {
   "cell_type": "code",
   "execution_count": 27,
   "metadata": {},
   "outputs": [
    {
     "data": {
      "image/png": "[encoded data removed]",
      "text/plain": [
       "<Figure size 432x288 with 1 Axes>"
      ]
     },
     "metadata": {},
     "output_type": "display_data"
    },
    {
     "data": {
      "text/plain": [
       "1"
      ]
     },
     "execution_count": 27,
     "metadata": {},
     "output_type": "execute_result"
    }
   ],
   "source": [
    "len(looping_kmeans(justtwo_np,\n",
    "        list(range(1,2))))"
   ]
  },
  {
   "cell_type": "code",
   "execution_count": null,
   "metadata": {},
   "outputs": [],
   "source": []
  }
 ],
 "metadata": {
  "kernelspec": {
   "display_name": "Python 3 (ipykernel)",
   "language": "python",
   "name": "python3"
  },
  "language_info": {
   "codemirror_mode": {
    "name": "ipython",
    "version": 3
   },
   "file_extension": ".py",
   "mimetype": "text/x-python",
   "name": "python",
   "nbconvert_exporter": "python",
   "pygments_lexer": "ipython3",
   "version": "3.9.12"
  }
 },
 "nbformat": 4,
 "nbformat_minor": 2
}
